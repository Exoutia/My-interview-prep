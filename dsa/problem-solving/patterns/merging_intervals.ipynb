{
 "cells": [
  {
   "cell_type": "markdown",
   "metadata": {},
   "source": [
    "# Merging Intervals \n",
    "---\n",
    "\n",
    "### Theory\n",
    "According to the dicitionary, an iterval is an 'intervening period of time' but in coding problems intervals can be anything a integers with start and end, minutes, hours, days, etc.\n",
    "<br>\n",
    "The **merging intervals** pattern is an efficient technique to deal with overlapping intervals. Many of the problems involving intervals either deal with overlapping intervals or merge intervals if they overlap.\n"
   ]
  },
  {
   "cell_type": "markdown",
   "metadata": {},
   "source": [
    "### Ways Intervals Relate\n",
    "Given two intervals \"a\" and \"b\" they can relate to each other in the following 5 ways.\n",
    "\n",
    "- No overlap of a and b\n",
    "- Overlap but b ends after a\n",
    "- a completely overlaps b\n",
    "- Overlap but a ends after b\n",
    "- b completely overlaps a\n"
   ]
  },
  {
   "cell_type": "markdown",
   "metadata": {},
   "source": [
    "### Algorithm\n",
    "1. Sort the list of intervals in the ascending order of the start time.\n",
    "2. Push the first item to the stack.(in python we can use the list with append)\n",
    "3. Start traversing the list of sorted intervals from the second index. During each iteration, pop the top item from the stack via pop method:\n",
    "    - If the item popped doesn't overlap with the item being traversed from the list, push the popped item back to the stack.\n",
    "    - If the item overlaps check that ending time of the traversed item is greater than the end time of popped item. If so set the ending time of popped interval to the ending time of interval beinfg traversed.\n",
    "4. At the end we have the merged intervals in the stack.\n"
   ]
  },
  {
   "cell_type": "markdown",
   "metadata": {},
   "source": [
    "Q. Given a set of intervals in the form of tupple with start and end we have to make the list devoid of any overlap by merging the overlapped intervals. and return the mutually exclusive intervals list.\n",
    "\n",
    "**Input:**\n",
    "[(10, 13), (12, 25), (4, 32), (7, 15), (2, 8), (9, 35)]"
   ]
  },
  {
   "cell_type": "code",
   "execution_count": null,
   "metadata": {},
   "outputs": [],
   "source": [
    "intervals = [(10, 13), (12, 25), (4, 32), (7, 15), (2, 8), (9, 35), (36, 40),(0,1)]"
   ]
  },
  {
   "cell_type": "code",
   "execution_count": null,
   "metadata": {},
   "outputs": [],
   "source": [
    "sorted_intervals = sorted(intervals)\n",
    "stack = []\n",
    "stack.append(sorted_intervals[0])\n",
    "print(sorted_intervals)"
   ]
  },
  {
   "cell_type": "code",
   "execution_count": 22,
   "metadata": {},
   "outputs": [
    {
     "data": {
      "text/plain": [
       "[(-10, 1), (2, 35), (36, 40)]"
      ]
     },
     "execution_count": 22,
     "metadata": {},
     "output_type": "execute_result"
    }
   ],
   "source": [
    "def merge_intervals1(arr):\n",
    "    sorted_intervals = sorted(arr)\n",
    "    stack = []\n",
    "    stack.append(sorted_intervals[0])\n",
    "    for i in range(1, len(sorted_intervals)):\n",
    "        item_1 = stack.pop()\n",
    "        item_2 = sorted_intervals[i]\n",
    "        if item_1[1] >= item_2[0]:\n",
    "            stack.append((item_1[0], max(item_1[1], item_2[1])))\n",
    "        else:\n",
    "            stack.append(item_1)\n",
    "            stack.append(item_2)\n",
    "    return stack\n",
    "\n",
    "intervals = [(10, 13), (12, 25), (4, 32), (7, 15), (2, 8), (9, 35), (36, 40),(-10,1)]\n",
    "merge_intervals1(intervals)\n",
    "        "
   ]
  },
  {
   "cell_type": "code",
   "execution_count": 19,
   "metadata": {},
   "outputs": [
    {
     "data": {
      "text/plain": [
       "[(-1, 1), (2, 35), (36, 40)]"
      ]
     },
     "execution_count": 19,
     "metadata": {},
     "output_type": "execute_result"
    }
   ],
   "source": [
    "def merge_intervals(arr):\n",
    "    arr.sort()\n",
    "    index = 0\n",
    "    for i in range(1, len(arr)):\n",
    "        if arr[index][1] >= arr[i][0]:\n",
    "            arr[index] = arr[index][0], max(arr[index][1],arr[i][1])\n",
    "        else:\n",
    "            index += 1\n",
    "            arr[index] = arr[i]\n",
    "    \n",
    "    return arr[:index+1]\n",
    "\n",
    "intervals1 = [(-1,1),(10, 13), (12, 25), (4, 32), (7, 15), (2, 8), (9, 35), (36, 40)]\n",
    "merge_intervals(intervals1)\n"
   ]
  },
  {
   "cell_type": "code",
   "execution_count": null,
   "metadata": {},
   "outputs": [],
   "source": []
  }
 ],
 "metadata": {
  "kernelspec": {
   "display_name": "Python 3.10.6 64-bit",
   "language": "python",
   "name": "python3"
  },
  "language_info": {
   "codemirror_mode": {
    "name": "ipython",
    "version": 3
   },
   "file_extension": ".py",
   "mimetype": "text/x-python",
   "name": "python",
   "nbconvert_exporter": "python",
   "pygments_lexer": "ipython3",
   "version": "3.10.7"
  },
  "orig_nbformat": 4,
  "vscode": {
   "interpreter": {
    "hash": "e7370f93d1d0cde622a1f8e1c04877d8463912d04d973331ad4851f04de6915a"
   }
  }
 },
 "nbformat": 4,
 "nbformat_minor": 2
}
