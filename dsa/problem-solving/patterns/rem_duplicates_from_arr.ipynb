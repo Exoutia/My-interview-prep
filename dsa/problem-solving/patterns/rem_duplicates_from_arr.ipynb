{
 "cells": [
  {
   "cell_type": "markdown",
   "metadata": {},
   "source": [
    "# Remove Duplicates From Array\n",
    "Given an array, return just the unique elements without using any built-in Array filtering. In\n",
    "other words, you're removing any duplicates.\n",
    "<br>\n",
    "Note: Order needs to be preserved, so no sorting should be done."
   ]
  },
  {
   "cell_type": "markdown",
   "metadata": {},
   "source": [
    "## Algorithms\n",
    "1. duplicate number should be exchage with the differentnumber in array.\n",
    "\n",
    "1. Using hash map can also be done.\n"
   ]
  },
  {
   "cell_type": "code",
   "execution_count": 1,
   "metadata": {},
   "outputs": [
    {
     "name": "stdout",
     "output_type": "stream",
     "text": [
      "[1, 2, 3, 4, 5, 6]\n"
     ]
    }
   ],
   "source": [
    "def rem_dup_set(arr: list):\n",
    "    x = set()\n",
    "    res = []\n",
    "    for i in arr:\n",
    "        if i not in x:\n",
    "            x.add(i)\n",
    "            res.append(i)\n",
    "    return res\n",
    "\n",
    "print(rem_dup_set([1,2,2,3,4,4,5,5,5,5,6]))\n",
    "\n"
   ]
  },
  {
   "cell_type": "code",
   "execution_count": null,
   "metadata": {},
   "outputs": [],
   "source": []
  }
 ],
 "metadata": {
  "kernelspec": {
   "display_name": "Python 3.10.7 64-bit",
   "language": "python",
   "name": "python3"
  },
  "language_info": {
   "codemirror_mode": {
    "name": "ipython",
    "version": 3
   },
   "file_extension": ".py",
   "mimetype": "text/x-python",
   "name": "python",
   "nbconvert_exporter": "python",
   "pygments_lexer": "ipython3",
   "version": "3.10.7"
  },
  "orig_nbformat": 4,
  "vscode": {
   "interpreter": {
    "hash": "e7370f93d1d0cde622a1f8e1c04877d8463912d04d973331ad4851f04de6915a"
   }
  }
 },
 "nbformat": 4,
 "nbformat_minor": 2
}
