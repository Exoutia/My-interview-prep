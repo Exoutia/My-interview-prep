{
 "cells": [
  {
   "cell_type": "markdown",
   "metadata": {},
   "source": [
    "# Merge Intervals\n",
    "This is a classic interview question that is used in a lot in technical interviews, frequently in\n",
    "the form of a calendar or meeting management application. As such, we'll also assume the\n",
    "same use case, as it's easier to visualize. \n",
    "![merge Intervals](problem-solving/images/merge_intervals.png)\n"
   ]
  },
  {
   "cell_type": "code",
   "execution_count": 1,
   "metadata": {},
   "outputs": [
    {
     "name": "stdout",
     "output_type": "stream",
     "text": [
      "(0, 1) (2, 35) (36, 40) "
     ]
    }
   ],
   "source": [
    "def merge_intervals(arr):\n",
    "    arr.sort()\n",
    "    index = 0\n",
    "    for i in range(1, len(arr)):\n",
    "        if arr[index][1] >= arr[i][0]:\n",
    "            arr[index] = arr[index][0], max(arr[index][1],arr[i][1])\n",
    "        else:\n",
    "            index += 1\n",
    "            arr[index] = arr[i]\n",
    "    return arr[:index+1]\n",
    "    \n",
    "intervals1 = [(0,1),(10, 13), (12, 25), (4, 32), (7, 15), (2, 8), (9, 35), (36, 40)]\n",
    "merge_intervals(intervals1)"
   ]
  },
  {
   "cell_type": "code",
   "execution_count": null,
   "metadata": {},
   "outputs": [],
   "source": []
  }
 ],
 "metadata": {
  "kernelspec": {
   "display_name": "Python 3.10.7 64-bit",
   "language": "python",
   "name": "python3"
  },
  "language_info": {
   "codemirror_mode": {
    "name": "ipython",
    "version": 3
   },
   "file_extension": ".py",
   "mimetype": "text/x-python",
   "name": "python",
   "nbconvert_exporter": "python",
   "pygments_lexer": "ipython3",
   "version": "3.10.7"
  },
  "orig_nbformat": 4,
  "vscode": {
   "interpreter": {
    "hash": "e7370f93d1d0cde622a1f8e1c04877d8463912d04d973331ad4851f04de6915a"
   }
  }
 },
 "nbformat": 4,
 "nbformat_minor": 2
}
