{
 "cells": [
  {
   "cell_type": "markdown",
   "metadata": {},
   "source": [
    "# Split Set to Equal Subsets\n",
    "We're given a set in the form of an array with a unique integers. Can you write a function\n",
    "that tells us whether it can be separated into two subsets whose elements have equal sums?\n",
    "![](problem-solving/images/split-subsets.png)\n",
    "Here's an example. The below would return true because newSet can be divided into [5, 9, 7] and [21]. Both subsets sum to 21 and are equal."
   ]
  },
  {
   "cell_type": "markdown",
   "metadata": {},
   "source": [
    "## Algorithms\n",
    "1. First we check if the sum is even or not if its even there cant be a way to split the array into two equal parts.\n",
    "2. If there is a max number which is greater than the sum/2 we can also return the ans False.\n",
    "3. Now these things clear we need to find the ans, we can take the recursive approach. with dynamic programming.\n",
    "4. For this we use a memo to check at every iteration to find the ans."
   ]
  },
  {
   "cell_type": "code",
   "execution_count": 31,
   "metadata": {},
   "outputs": [
    {
     "name": "stdout",
     "output_type": "stream",
     "text": [
      "True\n"
     ]
    }
   ],
   "source": [
    "def can_get_sums(arr: list, tar: int, idx: int, n: int, memo: dict) -> bool:\n",
    "    if tar in memo:\n",
    "        return memo[tar]\n",
    "    if tar==0:\n",
    "        memo[tar] = True\n",
    "    else:\n",
    "        memo[tar]=False\n",
    "        if tar > 0:\n",
    "            # print(f'{idx}: here ')\n",
    "            for i in range(idx, n):\n",
    "                # print(f'{i} ,{idx}, {tar}')   \n",
    "                if can_get_sums(arr, tar-arr[i], i + 1, n, memo):\n",
    "                    memo[tar]=True\n",
    "                    break\n",
    "    return memo[tar]\n",
    "    \n",
    "def has_equal_subsets(arr: list):\n",
    "    # print(sum(arr)//2)\n",
    "    return False if sum(arr)%2 else can_get_sums(arr, (sum(arr)//2), 0, len(arr), {})\n",
    "\n",
    "print(has_equal_subsets([1,2,3,3,8,9]))"
   ]
  },
  {
   "cell_type": "code",
   "execution_count": null,
   "metadata": {},
   "outputs": [],
   "source": []
  },
  {
   "cell_type": "code",
   "execution_count": null,
   "metadata": {},
   "outputs": [],
   "source": []
  }
 ],
 "metadata": {
  "kernelspec": {
   "display_name": "Python 3.10.7 64-bit",
   "language": "python",
   "name": "python3"
  },
  "language_info": {
   "codemirror_mode": {
    "name": "ipython",
    "version": 3
   },
   "file_extension": ".py",
   "mimetype": "text/x-python",
   "name": "python",
   "nbconvert_exporter": "python",
   "pygments_lexer": "ipython3",
   "version": "3.10.7"
  },
  "orig_nbformat": 4,
  "vscode": {
   "interpreter": {
    "hash": "e7370f93d1d0cde622a1f8e1c04877d8463912d04d973331ad4851f04de6915a"
   }
  }
 },
 "nbformat": 4,
 "nbformat_minor": 2
}
