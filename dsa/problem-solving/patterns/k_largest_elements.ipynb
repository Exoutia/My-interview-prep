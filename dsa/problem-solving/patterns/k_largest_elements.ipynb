{
 "cells": [
  {
   "cell_type": "markdown",
   "metadata": {},
   "source": [
    "# K largest elements from list\n",
    "We're given a list or array of numbers, like the following:\n",
    "const nums = [5, 16, 7, 9, -1, 4, 3, 11, 2]\n",
    "Can you write an algorithm to find the k largest values in a list of n elements? The correct\n",
    "logic would return [16, 11, 9]. Order is not a consideration.\n",
    "![](problem-solving/images/k-largest-elements.png)\n",
    "Can you find more than one approach to this problem?\n",
    "Let's cover a few different ways to accomplish obtaining the largest k numbers in a list.\n"
   ]
  },
  {
   "cell_type": "markdown",
   "metadata": {},
   "source": [
    "## Algorithms\n",
    "### Using sort\n",
    "1. this is pretty easy as we know sort the elements and return the nubmer of element we need to.\n",
    "\n",
    "### Using max-heap\n",
    "2. As we know how does that work we can use its property to use that.\n",
    "> Time complexity O(nlogk)\n",
    "><br/>\n",
    "> Space complexity O(n)\n"
   ]
  },
  {
   "cell_type": "code",
   "execution_count": 3,
   "metadata": {},
   "outputs": [
    {
     "data": {
      "text/plain": [
       "[7, 6, 5]"
      ]
     },
     "execution_count": 3,
     "metadata": {},
     "output_type": "execute_result"
    }
   ],
   "source": [
    "# Using sort\n",
    "def k_element(arr: list, k: int) -> list:\n",
    "    return sorted(arr, reverse=True)[:k]\n",
    "\n",
    "k_element([1,2,3,4,5,6,7], 3)\n"
   ]
  },
  {
   "cell_type": "code",
   "execution_count": null,
   "metadata": {},
   "outputs": [],
   "source": []
  },
  {
   "cell_type": "code",
   "execution_count": 3,
   "metadata": {},
   "outputs": [
    {
     "data": {
      "text/plain": [
       "[92, 7, 6]"
      ]
     },
     "execution_count": 3,
     "metadata": {},
     "output_type": "execute_result"
    }
   ],
   "source": [
    "# Using max-heap\n",
    "from heapq import heappop, heapify, heappush\n",
    "\n",
    "def K_element1(arr: list, k: int) -> list:\n",
    "    heap = []\n",
    "    res = []\n",
    "    for i in arr:\n",
    "        heappush(heap, -1*i)\n",
    "    for i in range(k):\n",
    "        res.append(-1*(heappop(heap)))\n",
    "    return res\n",
    "\n",
    "K_element1([92,3,5,4,7,6], 3)\n",
    "\n"
   ]
  },
  {
   "cell_type": "code",
   "execution_count": null,
   "metadata": {},
   "outputs": [],
   "source": []
  }
 ],
 "metadata": {
  "kernelspec": {
   "display_name": "Python 3.10.7 64-bit",
   "language": "python",
   "name": "python3"
  },
  "language_info": {
   "codemirror_mode": {
    "name": "ipython",
    "version": 3
   },
   "file_extension": ".py",
   "mimetype": "text/x-python",
   "name": "python",
   "nbconvert_exporter": "python",
   "pygments_lexer": "ipython3",
   "version": "3.10.7"
  },
  "orig_nbformat": 4,
  "vscode": {
   "interpreter": {
    "hash": "e7370f93d1d0cde622a1f8e1c04877d8463912d04d973331ad4851f04de6915a"
   }
  }
 },
 "nbformat": 4,
 "nbformat_minor": 2
}
