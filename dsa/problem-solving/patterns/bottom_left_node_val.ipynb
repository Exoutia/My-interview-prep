{
 "cells": [
  {
   "cell_type": "markdown",
   "metadata": {},
   "source": [
    "# Bottom Left Node Value\n",
    "Assume we're using a binary tree in writing a video game via Binary Space Partitioning.\n",
    "We need to identify the bottom left leaf, that is-- the leftmost value in the lowest row of the\n",
    "binary tree.\n",
    "<br>\n",
    "![bottom left node](problem-solving/images/bottom_left_node.png)"
   ]
  },
  {
   "cell_type": "markdown",
   "metadata": {},
   "source": [
    "## Algorithms\n",
    "1. we use bfs\n",
    "2. we use bfs by using queue"
   ]
  },
  {
   "cell_type": "code",
   "execution_count": 5,
   "metadata": {},
   "outputs": [
    {
     "data": {
      "text/plain": [
       "10"
      ]
     },
     "execution_count": 5,
     "metadata": {},
     "output_type": "execute_result"
    }
   ],
   "source": [
    "from queue import Queue\n",
    "class Node:\n",
    "    def __init__(self, val) -> None:\n",
    "        self.val = val\n",
    "        self.left = None\n",
    "        self.right = None\n",
    "\n",
    "def bottom_left_val(root):\n",
    "    que = Queue(maxsize=0)\n",
    "    que.put(root)\n",
    "    while not que.empty():\n",
    "        root = que.get()\n",
    "\n",
    "        if root.right:\n",
    "            que.put(root.right)\n",
    "        if root.left:\n",
    "            que.put(root.left)\n",
    "    return root.val\n",
    "\n",
    "root = Node(4)\n",
    "root.left = Node(1)\n",
    "root.right = Node(2)\n",
    "root.left.left = Node(9)\n",
    "root.left.right = Node(7)\n",
    "root.right.left = Node(5)\n",
    "root.right.left.left = Node(10)\n",
    "root.right.right = Node(8)\n",
    "\n",
    "bottom_left_val(root)"
   ]
  },
  {
   "cell_type": "code",
   "execution_count": null,
   "metadata": {},
   "outputs": [],
   "source": []
  }
 ],
 "metadata": {
  "kernelspec": {
   "display_name": "Python 3.10.7 64-bit",
   "language": "python",
   "name": "python3"
  },
  "language_info": {
   "codemirror_mode": {
    "name": "ipython",
    "version": 3
   },
   "file_extension": ".py",
   "mimetype": "text/x-python",
   "name": "python",
   "nbconvert_exporter": "python",
   "pygments_lexer": "ipython3",
   "version": "3.10.7"
  },
  "orig_nbformat": 4,
  "vscode": {
   "interpreter": {
    "hash": "e7370f93d1d0cde622a1f8e1c04877d8463912d04d973331ad4851f04de6915a"
   }
  }
 },
 "nbformat": 4,
 "nbformat_minor": 2
}
