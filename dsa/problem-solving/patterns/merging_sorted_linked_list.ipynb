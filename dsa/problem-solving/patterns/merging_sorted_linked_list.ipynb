{
 "cells": [
  {
   "cell_type": "markdown",
   "metadata": {},
   "source": [
    "# Merged Sorted Linked List\n",
    "Write an algorithms to merge two linked lists and return it as a new sorted list. The new list should be constructed by joining the nodes of the input lists.\n",
    "<br/>\n",
    "![sorted linked list](problem-solving/images/sorted_linked_list.png)"
   ]
  },
  {
   "cell_type": "markdown",
   "metadata": {},
   "source": [
    "## Algorithms\n",
    "1. first we can take two first number and make a new linked list which will only contain the smaller number first and greater of two nubmer after it.\n",
    "2. just like merge sort.\n",
    "3. Pass the two linked list (say list1 and list2) as parameter to the method.\n",
    "4. create a temp node with a null value\n",
    "    - if list1 is empty we return list2(and vice versa)\n",
    "5. if list1's value is less than or equal to list2 val:\n",
    "    - set temp to head of the list1.\n",
    "    - call the algorithm recursively again with list1.next and list2\n",
    "6. If list1's value is greater than or equal to list2's value, conduct the same as step 3 but call recursively with list1 and list2.next.\n",
    "7. Return temp\n",
    "    - Note: This solution is intuitive, but has a large memory requirement for bigger lists.\n"
   ]
  },
  {
   "cell_type": "code",
   "execution_count": 1,
   "metadata": {},
   "outputs": [],
   "source": [
    "class EmptyError:\n",
    "    pass\n",
    "\n",
    "class sll:\n",
    "    \n",
    "    class node:\n",
    "        __slots__ = '_val', '_next'\n",
    "        \n",
    "        def __init__(self, _val, _next):\n",
    "            self._val = _val\n",
    "            self._next = _next\n",
    "    \n",
    "    def __init__(self):\n",
    "        self._head = None\n",
    "        self._size = 0\n",
    "        self._tail = None\n",
    "    \n",
    "    def __len__(self):\n",
    "        return self._size\n",
    "    \n",
    "    def is_empty(self):\n",
    "        return self._size == 0\n",
    "    \n",
    "    # @abstractmethod\n",
    "    def insert_at_last(self, val):\n",
    "        newest = self.node(val, None)\n",
    "        if self.is_empty():\n",
    "            self._head = newest\n",
    "        else:\n",
    "            self._tail._next = newest\n",
    "        self._tail = newest\n",
    "        self._size += 1\n",
    "    \n",
    "    # @abstractmethod\n",
    "    def insert_at_first(self, val):\n",
    "        self._head = self.node(val, self._head)\n",
    "        if self.is_empty():\n",
    "            self._tail = self._head\n",
    "        self._size += 1\n",
    "        \n",
    "    # @abstractmethod\n",
    "    def insert_mid(self, val, pos):\n",
    "        if pos > self._size or pos < 0:\n",
    "            raise IndexError('Invalid index')\n",
    "        if pos == 0:\n",
    "            # this is same as insert at first \n",
    "            self.insert_at_first(val)\n",
    "            return \n",
    "        if pos == self._size:\n",
    "            # this is same as insert at last\n",
    "            self.insert_at_last(val)\n",
    "            return \n",
    "        temp = self._head\n",
    "        count = pos-1\n",
    "        while count:\n",
    "            count -= 1\n",
    "            temp = temp._next\n",
    "        newnode = self.node(val, None)\n",
    "        newnode._next = temp._next\n",
    "        temp._next = newnode\n",
    "        self._size += 1\n",
    "    \n",
    "    def delete_at_first(self):\n",
    "        if self.is_empty():\n",
    "            raise EmptyError('list is empty')            \n",
    "        temp = self._head\n",
    "        self._head = temp._next\n",
    "        del(temp)\n",
    "        self._size -= 1\n",
    "        return True  \n",
    "    \n",
    "    def delete_at_last(self):\n",
    "        if self.is_empty():\n",
    "            raise EmptyError('list is Empty')\n",
    "        temp = self._head\n",
    "        while temp._next:\n",
    "            temp = temp._next\n",
    "            print(temp._val)\n",
    "        self._tail = temp\n",
    "        self._tail._next = None\n",
    "        self._size -= 1\n",
    "        # del(temp._next)    \n",
    "    \n",
    "    def display(self):\n",
    "        temp = self._head\n",
    "        while temp._next:\n",
    "            print(temp._val, end='->')\n",
    "            temp = temp._next\n",
    "        print(temp._val)\n"
   ]
  },
  {
   "cell_type": "code",
   "execution_count": 2,
   "metadata": {},
   "outputs": [
    {
     "name": "stdout",
     "output_type": "stream",
     "text": [
      "1->23->56->78->99\n",
      "1->2->3->4->5->6->77->98\n"
     ]
    }
   ],
   "source": [
    "list1 = sll()\n",
    "list2 = sll()\n",
    "for i in [1,23,56,78,99]:\n",
    "    list1.insert_at_last(i)\n",
    "for i in [1,2,3,4,5,6,77,98]:\n",
    "    list2.insert_at_last(i)\n",
    "list1.display()\n",
    "list2.display()\n"
   ]
  },
  {
   "cell_type": "code",
   "execution_count": 3,
   "metadata": {},
   "outputs": [],
   "source": [
    "from copy import copy\n",
    "\n",
    "\n",
    "llist1_copy = copy(list1)\n",
    "llist2_copy = copy(list2)\n",
    "\n",
    "\n",
    "def merge_link_list(list1, list2):\n",
    "    temp = None\n",
    "    if not list1:\n",
    "        return list2\n",
    "    if not list2:\n",
    "        return list1\n",
    "    \n",
    "    if list1._val <= list2._val:\n",
    "        temp = list1\n",
    "        temp._next = merge_link_list(list1._next, list2)\n",
    "    else:\n",
    "        temp = list2\n",
    "        temp._next = merge_link_list(list1, list2._next)\n",
    "    \n",
    "    return temp\n",
    "\n",
    "list3 = merge_link_list(llist1_copy._head, llist2_copy._head)\n",
    "\n"
   ]
  },
  {
   "cell_type": "code",
   "execution_count": 6,
   "metadata": {},
   "outputs": [
    {
     "name": "stdout",
     "output_type": "stream",
     "text": [
      "1 1 2 3 4 5 6 23 56 77 78 98 99 "
     ]
    }
   ],
   "source": [
    "temp = list3\n",
    "while temp:\n",
    "    print(temp._val, end=\" \")\n",
    "    temp = temp._next\n",
    "# list1.display()\n",
    "# list2.display()\n"
   ]
  },
  {
   "cell_type": "code",
   "execution_count": null,
   "metadata": {},
   "outputs": [],
   "source": []
  }
 ],
 "metadata": {
  "kernelspec": {
   "display_name": "Python 3.10.7 64-bit",
   "language": "python",
   "name": "python3"
  },
  "language_info": {
   "codemirror_mode": {
    "name": "ipython",
    "version": 3
   },
   "file_extension": ".py",
   "mimetype": "text/x-python",
   "name": "python",
   "nbconvert_exporter": "python",
   "pygments_lexer": "ipython3",
   "version": "3.10.7"
  },
  "orig_nbformat": 4,
  "vscode": {
   "interpreter": {
    "hash": "e7370f93d1d0cde622a1f8e1c04877d8463912d04d973331ad4851f04de6915a"
   }
  }
 },
 "nbformat": 4,
 "nbformat_minor": 2
}
