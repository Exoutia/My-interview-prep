{
 "cells": [
  {
   "cell_type": "markdown",
   "metadata": {},
   "source": [
    "Reverse a string:\n",
    "<br>\n",
    "Input:\n",
    "'ABCDE'\n",
    "<br>\n",
    "Output:\n",
    "'EDCBA'\n"
   ]
  },
  {
   "cell_type": "code",
   "execution_count": null,
   "metadata": {},
   "outputs": [],
   "source": [
    "hun = \"ABCDE\"\n",
    "def rev_str(hun):\n",
    "    return hun[::-1]\n",
    "print(hun)\n",
    "print(rev_str(hun))"
   ]
  },
  {
   "cell_type": "code",
   "execution_count": null,
   "metadata": {},
   "outputs": [],
   "source": [
    "def rev_str_1(hun):\n",
    "    hun = list(hun)\n",
    "    for i in range(len(hun)//2):\n",
    "        hun[i], hun[-i-1] = hun[-i-1], hun[i]\n",
    "    return(''.join(hun))\n",
    "print(rev_str_1(hun))"
   ]
  },
  {
   "cell_type": "code",
   "execution_count": null,
   "metadata": {},
   "outputs": [],
   "source": []
  }
 ],
 "metadata": {
  "kernelspec": {
   "display_name": "Python 3.10.6 64-bit",
   "language": "python",
   "name": "python3"
  },
  "language_info": {
   "codemirror_mode": {
    "name": "ipython",
    "version": 3
   },
   "file_extension": ".py",
   "mimetype": "text/x-python",
   "name": "python",
   "nbconvert_exporter": "python",
   "pygments_lexer": "ipython3",
   "version": "3.10.6"
  },
  "orig_nbformat": 4,
  "vscode": {
   "interpreter": {
    "hash": "e7370f93d1d0cde622a1f8e1c04877d8463912d04d973331ad4851f04de6915a"
   }
  }
 },
 "nbformat": 4,
 "nbformat_minor": 2
}
