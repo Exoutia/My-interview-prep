{
 "cells": [
  {
   "cell_type": "markdown",
   "metadata": {},
   "source": [
    "# Least Missing Positive Number\n",
    "We have an unsorted array of integers such as the following:\n",
    "```\n",
    "[-2, -1, 0, 1, 3]\n",
    "```\n",
    "In the above example, the minimum number is -2 and the maximum is 3.\n",
    "This means there is an expected range (defined as the collection of values between the\n",
    "minimum and maximum values) of `[-2, -1, 0, 1, 2, 3]` for the array.\n",
    "But look at the example again:\n",
    "```\n",
    "JAVASCRIPT\n",
    "[-2, -1, 0, 1, 3]\n",
    "```\n",
    "We're missing a number: 2. The smallest missing positive integer for our input array is 2."
   ]
  },
  {
   "cell_type": "markdown",
   "metadata": {},
   "source": [
    "## Algorithms\n",
    "so accoridng to question we need to find the least positive missing number for the list so we can largely ignore the negative number (and if the number list is whole as in sense every number is present between the largest and smallest number, then we need to return the largest+1 number as ans.)\n",
    "1. so first we map the elements in array according to its index and len.\n",
    "2. any element greater than length of array and less than equal to 0 get ignore and if its in between we map them in its position in array by minusing 1 to get its index.\n",
    "3. when we are swapping if the previous element is not in order we again get its position right by traversing the array.\n",
    "4. then at the end we have an array which is mapped by its correct position as index we want.\n",
    "5. by iterating through it again we can see if there is number we skipped. and if yes return that and if not we return the len + 1."
   ]
  },
  {
   "cell_type": "code",
   "execution_count": 1,
   "metadata": {},
   "outputs": [
    {
     "name": "stdout",
     "output_type": "stream",
     "text": [
      "[1, 2, 4, 4, 6, 8]\n",
      "[1, 2, 4, 4, 5, 8]\n",
      "3\n"
     ]
    }
   ],
   "source": [
    "def least_pos(arr: list):\n",
    "    for i in range(len(arr)):\n",
    "        if arr[i] <= 0 or arr[i] > len(arr):\n",
    "            continue\n",
    "\n",
    "        val = arr[i]\n",
    "        while (arr[val-1] != val):\n",
    "            next_val = arr[val-1]\n",
    "            arr[val - 1] = val\n",
    "            val = next_val\n",
    "            if (val <= 0 or val > len(arr)):\n",
    "                break\n",
    "            print(arr)\n",
    "\n",
    "    for i in range(len(arr)):    \n",
    "        if arr[i] != i + 1:\n",
    "            return i + 1\n",
    "    \n",
    "    return len(arr) + 1\n",
    "\n",
    "\n",
    "print(least_pos([1,2,4,5,6,8]))"
   ]
  },
  {
   "cell_type": "code",
   "execution_count": null,
   "metadata": {},
   "outputs": [],
   "source": []
  }
 ],
 "metadata": {
  "kernelspec": {
   "display_name": "Python 3.10.7 64-bit",
   "language": "python",
   "name": "python3"
  },
  "language_info": {
   "codemirror_mode": {
    "name": "ipython",
    "version": 3
   },
   "file_extension": ".py",
   "mimetype": "text/x-python",
   "name": "python",
   "nbconvert_exporter": "python",
   "pygments_lexer": "ipython3",
   "version": "3.10.7"
  },
  "orig_nbformat": 4,
  "vscode": {
   "interpreter": {
    "hash": "e7370f93d1d0cde622a1f8e1c04877d8463912d04d973331ad4851f04de6915a"
   }
  }
 },
 "nbformat": 4,
 "nbformat_minor": 2
}
