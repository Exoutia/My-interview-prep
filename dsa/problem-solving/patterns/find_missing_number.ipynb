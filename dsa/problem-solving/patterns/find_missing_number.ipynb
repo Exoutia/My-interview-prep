{
 "cells": [
  {
   "cell_type": "markdown",
   "metadata": {},
   "source": [
    "# Find missing number \n",
    "When a continuous sorted array is given find the number that should have been present between them.\n",
    "<br>\n",
    "**Input:** [1,2,4,5,7]\n",
    "<br>\n",
    "**Output:** [3,6]\n",
    "\n"
   ]
  },
  {
   "cell_type": "markdown",
   "metadata": {},
   "source": [
    "## Algorithm\n",
    "As we got the number we know that the numbers should be in ascending order and difference between later and prev number should be 1 if its not then we know that there is missing number between them that we can find if we increment the number we have until its not equal to its later number.\n",
    "1. make a loop to iterate through the array.\n",
    "2. whenever the diff between two number is not 1 we make a second loop to find the number and run it until its not equal to the next number."
   ]
  },
  {
   "cell_type": "code",
   "execution_count": 7,
   "metadata": {},
   "outputs": [
    {
     "name": "stdout",
     "output_type": "stream",
     "text": [
      "[3, 6, 7, 10]\n"
     ]
    }
   ],
   "source": [
    "def find_num(nums: list):\n",
    "    res = []\n",
    "    i = nums[0]\n",
    "    for j in nums[1:]:\n",
    "        if j - i != 1:\n",
    "            while i+1 < j:\n",
    "                i+=1\n",
    "                res.append(i)\n",
    "                continue\n",
    "        i+=1\n",
    "    return res if res else False\n",
    "\n",
    "print(find_num([1,2,4,5,8,9,11]))"
   ]
  },
  {
   "cell_type": "code",
   "execution_count": null,
   "metadata": {},
   "outputs": [],
   "source": []
  }
 ],
 "metadata": {
  "kernelspec": {
   "display_name": "Python 3.10.7 64-bit",
   "language": "python",
   "name": "python3"
  },
  "language_info": {
   "codemirror_mode": {
    "name": "ipython",
    "version": 3
   },
   "file_extension": ".py",
   "mimetype": "text/x-python",
   "name": "python",
   "nbconvert_exporter": "python",
   "pygments_lexer": "ipython3",
   "version": "3.10.7"
  },
  "orig_nbformat": 4,
  "vscode": {
   "interpreter": {
    "hash": "e7370f93d1d0cde622a1f8e1c04877d8463912d04d973331ad4851f04de6915a"
   }
  }
 },
 "nbformat": 4,
 "nbformat_minor": 2
}
