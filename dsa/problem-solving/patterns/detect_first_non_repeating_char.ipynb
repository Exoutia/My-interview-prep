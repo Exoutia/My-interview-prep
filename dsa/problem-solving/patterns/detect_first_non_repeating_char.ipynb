{
 "cells": [
  {
   "cell_type": "markdown",
   "metadata": {},
   "source": [
    "# Find First Non-Repeating Character\n",
    "You're\n",
    "given\n",
    "a\n",
    "string\n",
    "of\n",
    "random\n",
    "alphanumerical\n",
    "characters\n",
    "with\n",
    "a\n",
    "length\n",
    "between 0 and 1000.\n",
    "Write a method to return the first character in the string that does not repeat itself later on.\n",
    "\n",
    "![image-of-non-reverse-repeating](/home/bibek/coding/My-interview-prep/dsa/problem-solving/images/detect-first-non-repeating-string.png)"
   ]
  },
  {
   "cell_type": "markdown",
   "metadata": {},
   "source": [
    "## Algorithms\n",
    "1. First we create a counter from the string.\n",
    "2. We can then search the string linearly to find the first non repeating char."
   ]
  },
  {
   "cell_type": "code",
   "execution_count": 6,
   "metadata": {},
   "outputs": [
    {
     "name": "stdout",
     "output_type": "stream",
     "text": [
      "False\n"
     ]
    }
   ],
   "source": [
    "from typing import Counter\n",
    "\n",
    "\n",
    "def first_non(s):\n",
    "    c = Counter(s)\n",
    "    for i in s:\n",
    "        if c[i] == 1:\n",
    "            return i\n",
    "    return False\n",
    "\n",
    "print(first_non('asdfsdafdasfkukdlfsafnnunl'))"
   ]
  },
  {
   "cell_type": "code",
   "execution_count": null,
   "metadata": {},
   "outputs": [],
   "source": []
  }
 ],
 "metadata": {
  "kernelspec": {
   "display_name": "Python 3.10.7 64-bit",
   "language": "python",
   "name": "python3"
  },
  "language_info": {
   "codemirror_mode": {
    "name": "ipython",
    "version": 3
   },
   "file_extension": ".py",
   "mimetype": "text/x-python",
   "name": "python",
   "nbconvert_exporter": "python",
   "pygments_lexer": "ipython3",
   "version": "3.10.7"
  },
  "orig_nbformat": 4,
  "vscode": {
   "interpreter": {
    "hash": "e7370f93d1d0cde622a1f8e1c04877d8463912d04d973331ad4851f04de6915a"
   }
  }
 },
 "nbformat": 4,
 "nbformat_minor": 2
}
