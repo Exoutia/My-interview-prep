{
 "cells": [
  {
   "cell_type": "markdown",
   "metadata": {},
   "source": [
    "# Sum all primes\n",
    "You're given a number `n`. Can you write a method `sumOfAllPrimes` that finds all prime numbers smaller than or equal to `n`, and returns a sum of them?\n",
    "![](problem-solving/images/sum-all-primes.png)"
   ]
  },
  {
   "cell_type": "markdown",
   "metadata": {},
   "source": [
    "## Algorithms\n",
    "1. first we run a loop from 1 to until that number\n",
    "2. and check a number is prime or not if its prime we sum it into result.\n",
    "3. return the ans.\n"
   ]
  },
  {
   "cell_type": "code",
   "execution_count": 12,
   "metadata": {},
   "outputs": [
    {
     "name": "stdout",
     "output_type": "stream",
     "text": [
      "True\n"
     ]
    }
   ],
   "source": [
    "from math import sqrt, floor\n",
    "def is_prime_num(x: int):\n",
    "    prime_nums = {2, 3, 5, 7, 11, 13, 17, 19}\n",
    "    if x in prime_nums:\n",
    "        return True\n",
    "    elif not (x & 1):\n",
    "        return False\n",
    "    elif x%10 == 5:\n",
    "        return False\n",
    "    else:\n",
    "        for k in range(3, floor(sqrt(x)+1)):\n",
    "            if x % k == 0:\n",
    "                return False\n",
    "        return True\n",
    "\n",
    "def sum_all_primes(num: int):\n",
    "    res = 0\n",
    "    for i in range(2, num+1):\n",
    "        if is_prime_num(i):\n",
    "            # print(i)\n",
    "            res += i\n",
    "    return res\n",
    "\n",
    "print(sum_all_primes(99)==sum([2, 3, 5, 7, 11, 13, 17, 19, 23, 29, 31, 37, 41, 43, 47, 53, 59, 61, 67, 71, 73, 79, 83, 89, 97]))\n",
    "    "
   ]
  },
  {
   "cell_type": "code",
   "execution_count": null,
   "metadata": {},
   "outputs": [],
   "source": []
  }
 ],
 "metadata": {
  "kernelspec": {
   "display_name": "Python 3.10.7 64-bit",
   "language": "python",
   "name": "python3"
  },
  "language_info": {
   "codemirror_mode": {
    "name": "ipython",
    "version": 3
   },
   "file_extension": ".py",
   "mimetype": "text/x-python",
   "name": "python",
   "nbconvert_exporter": "python",
   "pygments_lexer": "ipython3",
   "version": "3.10.7"
  },
  "orig_nbformat": 4,
  "vscode": {
   "interpreter": {
    "hash": "e7370f93d1d0cde622a1f8e1c04877d8463912d04d973331ad4851f04de6915a"
   }
  }
 },
 "nbformat": 4,
 "nbformat_minor": 2
}
