{
 "cells": [
  {
   "cell_type": "markdown",
   "metadata": {},
   "source": [
    "# Zeros to the end\n",
    "\n",
    "Write a method that moves all zeros in an arrayn to its end. You should mainatin the order of all other elements. Here's an example:\n",
    "```\n",
    "[1,2,0,2,0,4] --> [1,2,2,4,0,0]\n",
    "```\n",
    "![zeros at end](problem-solving/images/zeros-at-end.png)"
   ]
  },
  {
   "cell_type": "markdown",
   "metadata": {},
   "source": [
    "## Algortihms\n",
    "1. as we know its a simple question and we can do this in two ways.\n",
    "2. one with extra space and other with no extra space.\n",
    "3. with extra space we can populate the temp array with only non zero number by linear search and after that we will made extra space zero.\n",
    "4. with no extra space we will make a position whcih will only care about the starting position of zero need to be present and other than that we will make the array with other elements."
   ]
  },
  {
   "cell_type": "code",
   "execution_count": 1,
   "metadata": {},
   "outputs": [
    {
     "data": {
      "text/plain": [
       "[1, 2, 3, 4, 0, 0, 0]"
      ]
     },
     "execution_count": 1,
     "metadata": {},
     "output_type": "execute_result"
    }
   ],
   "source": [
    "# Using a extra space of n size\n",
    "def zero_end(arr):\n",
    "    temp = []\n",
    "    zero_count = 0\n",
    "    for i in arr:\n",
    "        if i == 0:\n",
    "            zero_count += 1\n",
    "        else:\n",
    "            temp.append(i)\n",
    "    for i in range(zero_count):\n",
    "        temp.append(0)\n",
    "    return temp\n",
    "\n",
    "zero_end([1,2,0,0,0,3,4])"
   ]
  },
  {
   "cell_type": "code",
   "execution_count": 2,
   "metadata": {},
   "outputs": [
    {
     "data": {
      "text/plain": [
       "[1, 2, 3, 4, 0, 0, 0]"
      ]
     },
     "execution_count": 2,
     "metadata": {},
     "output_type": "execute_result"
    }
   ],
   "source": [
    "# Using no extra space just inplace spacing\n",
    "\n",
    "def zero_end1(arr: list):\n",
    "    index_pos = 0\n",
    "    for i in range(len(arr)):\n",
    "        if arr[i] != 0:\n",
    "            arr[index_pos] = arr[i]\n",
    "            index_pos += 1\n",
    "    for i in range(index_pos, len(arr)):\n",
    "        arr[i] = 0\n",
    "    return arr\n",
    "    \n",
    "zero_end1([1,2,0,0,0,3,4])"
   ]
  },
  {
   "cell_type": "code",
   "execution_count": null,
   "metadata": {},
   "outputs": [],
   "source": []
  }
 ],
 "metadata": {
  "kernelspec": {
   "display_name": "Python 3.10.7 64-bit",
   "language": "python",
   "name": "python3"
  },
  "language_info": {
   "codemirror_mode": {
    "name": "ipython",
    "version": 3
   },
   "file_extension": ".py",
   "mimetype": "text/x-python",
   "name": "python",
   "nbconvert_exporter": "python",
   "pygments_lexer": "ipython3",
   "version": "3.10.7"
  },
  "orig_nbformat": 4,
  "vscode": {
   "interpreter": {
    "hash": "e7370f93d1d0cde622a1f8e1c04877d8463912d04d973331ad4851f04de6915a"
   }
  }
 },
 "nbformat": 4,
 "nbformat_minor": 2
}
