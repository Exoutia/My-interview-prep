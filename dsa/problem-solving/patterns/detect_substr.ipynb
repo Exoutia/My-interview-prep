{
 "cells": [
  {
   "cell_type": "markdown",
   "metadata": {},
   "source": [
    "# Detect Substring in String\n",
    "Write a function that will return the index of start and end index of sub-str in string. If that sub string is not present it will return the false.\n",
    "<br/>\n",
    "**Input:** str = 'Hello guys kaise ho', sub = 'guys'\n",
    "<br/>\n",
    "**Output:** (6,9)\n"
   ]
  },
  {
   "cell_type": "markdown",
   "metadata": {},
   "source": [
    "## Algorithm\n",
    "1. so we are going to do it in two pointer, we also have a pointer to determine how much match we are getting.\n",
    "2. first we are going to start a for loop to search in string.\n",
    "3. then we check each char and see if its mathces with the sub-stra and if its matches we increase the pointer of size. \n",
    "4. if the pointer of size become equal to we stop and calculate the start index and the index it end and return the ans."
   ]
  },
  {
   "cell_type": "code",
   "execution_count": 10,
   "metadata": {},
   "outputs": [
    {
     "name": "stdout",
     "output_type": "stream",
     "text": [
      "(4, 8)\n"
     ]
    }
   ],
   "source": [
    "def sub_str(s, sub):\n",
    "    start = 0\n",
    "    k = 0\n",
    "    i = 0\n",
    "    while i < len(s):\n",
    "        if s[i] == sub[k]:\n",
    "            k+= 1\n",
    "            if k == len(sub):\n",
    "                return i-k+1, i\n",
    "        else:\n",
    "            i -= k\n",
    "            k = 0\n",
    "        i+=1\n",
    "        # print(i)\n",
    "    return False\n",
    "\n",
    "print(sub_str('samggraph', 'graph'))"
   ]
  },
  {
   "cell_type": "code",
   "execution_count": null,
   "metadata": {},
   "outputs": [],
   "source": []
  }
 ],
 "metadata": {
  "kernelspec": {
   "display_name": "Python 3.10.7 64-bit",
   "language": "python",
   "name": "python3"
  },
  "language_info": {
   "codemirror_mode": {
    "name": "ipython",
    "version": 3
   },
   "file_extension": ".py",
   "mimetype": "text/x-python",
   "name": "python",
   "nbconvert_exporter": "python",
   "pygments_lexer": "ipython3",
   "version": "3.10.7"
  },
  "orig_nbformat": 4,
  "vscode": {
   "interpreter": {
    "hash": "e7370f93d1d0cde622a1f8e1c04877d8463912d04d973331ad4851f04de6915a"
   }
  }
 },
 "nbformat": 4,
 "nbformat_minor": 2
}
