{
 "cells": [
  {
   "cell_type": "markdown",
   "metadata": {},
   "source": [
    "![Reverse](/home/bibek/coding/dsa/images/reverse_string_alpha.png)\n",
    "<br>\n",
    "You are given a string that contains alphabetical characters (a - z, A - Z) and some other characters ($, !, etc.). For example, one input may be:\n",
    "<br>\n",
    "input: 'sea!$hells3'\n",
    "<br>\n",
    "output: 'sll!$ehaes3'"
   ]
  },
  {
   "cell_type": "code",
   "execution_count": 12,
   "metadata": {},
   "outputs": [
    {
     "name": "stdout",
     "output_type": "stream",
     "text": [
      "1222\n"
     ]
    }
   ],
   "source": [
    "# From regex\n",
    "import re\n",
    "\n",
    "inp_str = '1222'\n",
    "out_str = 'sll1222'\n",
    "\n",
    "def reverse_alpha(inp):\n",
    "    x = []\n",
    "    inp = list(inp)\n",
    "    for i in inp:\n",
    "        if i.isalpha():\n",
    "            x.append(i)\n",
    "    \n",
    "    x = x[::-1]\n",
    "    k = 0\n",
    "    for j, i in enumerate(inp):\n",
    "        if i.isalpha():\n",
    "            inp[j] = x[k]\n",
    "            k+= 1\n",
    "    print(''.join(inp))\n",
    "    return \n",
    "\n",
    "reverse_alpha(inp_str)"
   ]
  },
  {
   "cell_type": "code",
   "execution_count": null,
   "metadata": {},
   "outputs": [],
   "source": []
  }
 ],
 "metadata": {
  "kernelspec": {
   "display_name": "Python 3.10.6 64-bit",
   "language": "python",
   "name": "python3"
  },
  "language_info": {
   "codemirror_mode": {
    "name": "ipython",
    "version": 3
   },
   "file_extension": ".py",
   "mimetype": "text/x-python",
   "name": "python",
   "nbconvert_exporter": "python",
   "pygments_lexer": "ipython3",
   "version": "3.10.6"
  },
  "orig_nbformat": 4,
  "vscode": {
   "interpreter": {
    "hash": "e7370f93d1d0cde622a1f8e1c04877d8463912d04d973331ad4851f04de6915a"
   }
  }
 },
 "nbformat": 4,
 "nbformat_minor": 2
}
