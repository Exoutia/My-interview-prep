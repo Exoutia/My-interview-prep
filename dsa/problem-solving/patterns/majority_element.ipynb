{
 "cells": [
  {
   "cell_type": "markdown",
   "metadata": {},
   "source": [
    "# Majority Elements\n",
    "Suppose we are given an array of numbers like the following:\n",
    "<br>\n",
    "`[4,2,4]`\n",
    "Could you find the majority element? A majority is defined as \"the greater part, or more than half, of the total. It is a sunbset of a set consisteing of more than half of the set's elements.\"\n",
    "<br/>\n",
    "majority means the element that have the occurance, that is greater than 50% of total element, not the element which have most occurance.\n",
    "<br/>\n",
    "**Input**: [1,2,2,2,3,1], [12,2,2,2,2,2], [1,1,2,2,3,3,3]\n",
    "<br/>\n",
    "**Output**: not, 2, not\n",
    "\n"
   ]
  },
  {
   "cell_type": "markdown",
   "metadata": {},
   "source": [
    "## Algorithms\n",
    "So we can do this in two way and a brute way which i will skip.\n",
    "\n",
    "### Using sort \n",
    "> Condition: There always exist a solution.\n",
    "1. First we sort the array.m\n",
    "2. As there is going to be always a number present as solution after sorting it will always be present at the mid of array. so we can just return the mid of array number as ans.\n",
    "> Time Complexity: O(nlogn)<br/>Space Complexity: O(1)\n",
    "\n",
    "### Using Counter\n",
    "> More space \n",
    "1. First we count the number of element appears in array using any method we want most efficently a counter or dict.\n",
    "2. Second we iterate the counter and see which is the ans.\n",
    "> Time Complexity: O(n) <br/>Space Complexity: O(n)"
   ]
  },
  {
   "cell_type": "code",
   "execution_count": 1,
   "metadata": {},
   "outputs": [
    {
     "name": "stdout",
     "output_type": "stream",
     "text": [
      "2\n",
      "5\n",
      "2\n"
     ]
    }
   ],
   "source": [
    "def major_element(arr):\n",
    "    arr.sort()\n",
    "    return arr[len(arr)//2]\n",
    "\n",
    "test = [1,2,2,2,2,2], [3, 1, 4, 5, 5, 5, 5, 5, 5, 5], [2, 2, 3, 4, 2, 3, 2, 2]\n",
    "for i in test:\n",
    "    print(major_element(i))"
   ]
  },
  {
   "cell_type": "code",
   "execution_count": null,
   "metadata": {},
   "outputs": [],
   "source": []
  }
 ],
 "metadata": {
  "kernelspec": {
   "display_name": "Python 3.10.7 64-bit",
   "language": "python",
   "name": "python3"
  },
  "language_info": {
   "codemirror_mode": {
    "name": "ipython",
    "version": 3
   },
   "file_extension": ".py",
   "mimetype": "text/x-python",
   "name": "python",
   "nbconvert_exporter": "python",
   "pygments_lexer": "ipython3",
   "version": "3.10.7"
  },
  "orig_nbformat": 4,
  "vscode": {
   "interpreter": {
    "hash": "e7370f93d1d0cde622a1f8e1c04877d8463912d04d973331ad4851f04de6915a"
   }
  }
 },
 "nbformat": 4,
 "nbformat_minor": 2
}
