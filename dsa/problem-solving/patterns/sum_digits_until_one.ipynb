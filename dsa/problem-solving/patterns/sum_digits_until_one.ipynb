{
 "cells": [
  {
   "cell_type": "markdown",
   "metadata": {},
   "source": [
    "# Sum Digits Until One\n",
    "We're provided a positive integer num. Can you write a method to repeatedly add all of its\n",
    "digits until the result has only one digit?\n",
    "Here's an example: if the input was 49, we'd go through the following steps:\n",
    "SNIPPET\n",
    "```\n",
    "// start with 49\n",
    "4 + 9 = 13\n",
    "// move onto 13\n",
    "1 + 3 = 4\n",
    "We would then return 4.\n",
    "```"
   ]
  },
  {
   "cell_type": "code",
   "execution_count": 6,
   "metadata": {},
   "outputs": [
    {
     "name": "stdout",
     "output_type": "stream",
     "text": [
      "12345\n",
      "15\n",
      "6\n",
      "6\n"
     ]
    }
   ],
   "source": [
    "import math\n",
    "def sum_one(num):\n",
    "    print(num)\n",
    "    if num < 10:\n",
    "        return num\n",
    "    s = 0\n",
    "    l = math.floor(math.log(num, 10) + 1)\n",
    "    while l > 0:\n",
    "        s += num%10\n",
    "        num = num//10\n",
    "        l -= 1\n",
    "    return s if math.floor(math.log(s, 10)+1) <= 0 else sum_one(s)\n",
    "print(sum_one(12345))"
   ]
  },
  {
   "cell_type": "code",
   "execution_count": 4,
   "metadata": {},
   "outputs": [
    {
     "name": "stdout",
     "output_type": "stream",
     "text": [
      "6\n"
     ]
    }
   ],
   "source": [
    "def sum_one_str(num):\n",
    "    while num > 9:\n",
    "        num = sum(map(int, str(num)))\n",
    "    return num\n",
    "print(sum_one_str(12345))"
   ]
  },
  {
   "cell_type": "code",
   "execution_count": null,
   "metadata": {},
   "outputs": [],
   "source": []
  }
 ],
 "metadata": {
  "kernelspec": {
   "display_name": "Python 3.10.7 64-bit",
   "language": "python",
   "name": "python3"
  },
  "language_info": {
   "codemirror_mode": {
    "name": "ipython",
    "version": 3
   },
   "file_extension": ".py",
   "mimetype": "text/x-python",
   "name": "python",
   "nbconvert_exporter": "python",
   "pygments_lexer": "ipython3",
   "version": "3.10.7"
  },
  "orig_nbformat": 4,
  "vscode": {
   "interpreter": {
    "hash": "e7370f93d1d0cde622a1f8e1c04877d8463912d04d973331ad4851f04de6915a"
   }
  }
 },
 "nbformat": 4,
 "nbformat_minor": 2
}
