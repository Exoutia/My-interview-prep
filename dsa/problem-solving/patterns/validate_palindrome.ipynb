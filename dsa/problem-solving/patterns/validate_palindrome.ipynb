{
 "cells": [
  {
   "cell_type": "markdown",
   "metadata": {},
   "source": [
    "# Validate Palindrome\n",
    "Given a string str, can you write a method that will return True if is a palindrome\n",
    "and False if it is not? If you'll recall, a palindrome is defined as \"a word, phrase, or sequence\n",
    "that reads the same backward as forward\". For now, assume that we will not have input\n",
    "strings that contain special characters or spaces, so the following examples hold:\n",
    "<br/>\n",
    "**Input**:\n",
    "'racecar', 'Race'\n",
    "<br/>\n",
    "**Output**: True, False\n"
   ]
  },
  {
   "cell_type": "markdown",
   "metadata": {},
   "source": [
    "## Algorithm:\n",
    "1. Take two pointer one high and low with 0 and length of string -1 resepectively.\n",
    "2. Open a while loop that run untile low is less than high.\n",
    "3. In every iteration we check string[low] and string[high] is equal or not. If its equal we increase low and decrease high else we return False.\n",
    "4. If the loop is completed we return True "
   ]
  },
  {
   "cell_type": "code",
   "execution_count": 3,
   "metadata": {},
   "outputs": [],
   "source": [
    "def validate_pali(s):\n",
    "    start = 0\n",
    "    end = len(s) - 1\n",
    "    while start < end:\n",
    "        if s[start] != s[end]:\n",
    "            return False\n",
    "        start += 1\n",
    "        end -= 1\n",
    "    return True\n"
   ]
  },
  {
   "cell_type": "code",
   "execution_count": 5,
   "metadata": {},
   "outputs": [
    {
     "name": "stdout",
     "output_type": "stream",
     "text": [
      "True\n",
      "False\n",
      "True\n",
      "True\n",
      "False\n"
     ]
    }
   ],
   "source": [
    "x = ['racecar', 'isnotpalindrome', 'dood', 'xxx', 'uyt']\n",
    "for i in x:\n",
    "    print(validate_pali(i))"
   ]
  },
  {
   "cell_type": "code",
   "execution_count": null,
   "metadata": {},
   "outputs": [],
   "source": []
  }
 ],
 "metadata": {
  "kernelspec": {
   "display_name": "Python 3.10.7 64-bit",
   "language": "python",
   "name": "python3"
  },
  "language_info": {
   "codemirror_mode": {
    "name": "ipython",
    "version": 3
   },
   "file_extension": ".py",
   "mimetype": "text/x-python",
   "name": "python",
   "nbconvert_exporter": "python",
   "pygments_lexer": "ipython3",
   "version": "3.10.7"
  },
  "orig_nbformat": 4,
  "vscode": {
   "interpreter": {
    "hash": "e7370f93d1d0cde622a1f8e1c04877d8463912d04d973331ad4851f04de6915a"
   }
  }
 },
 "nbformat": 4,
 "nbformat_minor": 2
}
