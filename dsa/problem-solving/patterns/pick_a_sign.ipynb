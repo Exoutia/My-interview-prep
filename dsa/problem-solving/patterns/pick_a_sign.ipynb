{
 "cells": [
  {
   "cell_type": "markdown",
   "metadata": {},
   "source": [
    "# Pick A sign\n",
    "We're given an array of positive integers like the following:\n",
    "`[2, 1, 3, 2]`\n",
    "<br>\n",
    "Imagine that we're allowed to make each element of the array either a positive or negative\n",
    "number, indicated by a signage -- either a plus (+) or minus (-) sign that appears before it. If\n",
    "we curr_sum up all the signed elements, we will get a total curr_sum of all the signed numbers.\n",
    "<br>\n",
    "![pick a sign](problem-solving/images/pick-a-sign.png)\n",
    "<br>\n",
    "The total curr_sum can often be calculated via many permutations of the elements. For example,\n",
    "let's say we had a `target` curr_sum of `4`, that is, we wish to have our signed numbers curr_sum up to `4`.\n",
    "What we'd see is that there are two ways to arrive there:\n",
    "\n",
    "```js\n",
    "JAVASCRIPT\n",
    "let arr = [2, 1, 3, -2]\n",
    "arr.reduce((a,b) => a + b, 0)\n",
    "// curr_sum to 4\n",
    "arr = [-2, 1, 3, 2]\n",
    "arr.reduce((a,b) => a + b, 0)\n",
    "// curr_sum to 4\n",
    "```\n",
    "So the answer's 2.\n",
    "<br>\n",
    "if we're given a target number, can you define a method `numSignWays(nums: array,\n",
    "target: integer)`that would return us the number of permutations possible to curr_sum to it?\n",
    "For example, if the above array of numbers had a `target` curr_sum of `2` instead, there are `3` ways:\n",
    "\n",
    "```js\n",
    "JAVASCRIPT\n",
    "numSignWays([2, 1, 3, 2], 2)\n",
    "// 3\n",
    "// because 3 ways\n",
    "// -2, -1, +3, +2 curr_sum to 2\n",
    "// +2, +1, -3, +2 curr_sum to 2\n",
    "// +2, -1, +3, -2 curr_sum to 2\n",
    "\n",
    "```\n"
   ]
  },
  {
   "cell_type": "markdown",
   "metadata": {},
   "source": [
    "## Algorithms\n",
    "1. first we can think of brute force solution of the way in which we will make the curr_sum of all elements in array by changing signs and keeping the curr_sum.\n",
    "2. you can think of permutations of this array to find the curr_sum.\n",
    "3. now that we know the way we know the way and we all have to do is take the dfs approach to find the ans. this way will check the target if it mathces or not.\n",
    "4. dfs \n",
    "5. and to make it better we can just use the memo to remeber the ans before upto some point."
   ]
  },
  {
   "cell_type": "code",
   "execution_count": 2,
   "metadata": {},
   "outputs": [
    {
     "data": {
      "text/plain": [
       "3"
      ]
     },
     "execution_count": 2,
     "metadata": {},
     "output_type": "execute_result"
    }
   ],
   "source": [
    "def num_sign_ways(nums: list, target: int):\n",
    "    if not nums:\n",
    "       return 0\n",
    "    return helper(nums, target, 0, 0, {})\n",
    "\n",
    "def helper(nums: list, target: int, step: int, curr_sum: int, memo: dict):\n",
    "    if (step, curr_sum) in memo:\n",
    "        return memo[(step, curr_sum)]\n",
    "\n",
    "    if step == len(nums):\n",
    "        return 1 if curr_sum == target else 0\n",
    "\n",
    "    pos_match = helper(nums, target, step + 1, curr_sum + nums[step], memo)\n",
    "    neg_match = helper(nums, target, step + 1, curr_sum - nums[step], memo)\n",
    "    memo[(step, curr_sum)] = pos_match + neg_match\n",
    "\n",
    "    return memo[(step, curr_sum)]\n",
    "\n",
    "num_sign_ways([2,1,3,2], 2)"
   ]
  },
  {
   "cell_type": "code",
   "execution_count": null,
   "metadata": {},
   "outputs": [],
   "source": []
  }
 ],
 "metadata": {
  "kernelspec": {
   "display_name": "Python 3.10.7 64-bit",
   "language": "python",
   "name": "python3"
  },
  "language_info": {
   "codemirror_mode": {
    "name": "ipython",
    "version": 3
   },
   "file_extension": ".py",
   "mimetype": "text/x-python",
   "name": "python",
   "nbconvert_exporter": "python",
   "pygments_lexer": "ipython3",
   "version": "3.10.7"
  },
  "orig_nbformat": 4,
  "vscode": {
   "interpreter": {
    "hash": "e7370f93d1d0cde622a1f8e1c04877d8463912d04d973331ad4851f04de6915a"
   }
  }
 },
 "nbformat": 4,
 "nbformat_minor": 2
}
