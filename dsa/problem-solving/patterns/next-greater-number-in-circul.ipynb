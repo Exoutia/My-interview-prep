{
 "cells": [
  {
   "cell_type": "markdown",
   "metadata": {},
   "source": [
    "# Next Greater Element in a Circular Array\n",
    "A circular array is one where the next element of the last element is the first element.\n",
    "You know how standard arrays look. Instead of [1, 2, 3, 4], imagine the following, where\n",
    "after index 7, we'd move back to index 0.\n",
    "![circular](problem-solving/images/circular-array.png)\n",
    "Can you write a method nextLargerNumber(nums: array) to print the next immediate\n",
    "larger number for every element in the array?\n",
    "Note: for any element within the circular array, the next immediate larger number could be found\n",
    "circularly-- past the end and before it. If there is no number greater, return -1."
   ]
  },
  {
   "cell_type": "code",
   "execution_count": 2,
   "metadata": {},
   "outputs": [
    {
     "data": {
      "text/plain": [
       "[2, 12, -1, -1, 12, 2]"
      ]
     },
     "execution_count": 2,
     "metadata": {},
     "output_type": "execute_result"
    }
   ],
   "source": [
    "def greater_num(arr: list):\n",
    "    n = len(arr)\n",
    "    st = []\n",
    "    ans = [0]*n\n",
    "    for i in range(2*n-1, -1, -1):\n",
    "        while st and arr[i%n] >= st[-1]:\n",
    "            st.pop()\n",
    "        if i < n:\n",
    "            if st:\n",
    "                ans[i] = st[-1]\n",
    "            else:\n",
    "                ans[i] = -1\n",
    "        st.append(arr[i%n])\n",
    "    return ans\n",
    "\n",
    "greater_num([1,2,12,12,2,1])"
   ]
  },
  {
   "cell_type": "code",
   "execution_count": null,
   "metadata": {},
   "outputs": [],
   "source": []
  }
 ],
 "metadata": {
  "kernelspec": {
   "display_name": "Python 3.10.7 64-bit",
   "language": "python",
   "name": "python3"
  },
  "language_info": {
   "codemirror_mode": {
    "name": "ipython",
    "version": 3
   },
   "file_extension": ".py",
   "mimetype": "text/x-python",
   "name": "python",
   "nbconvert_exporter": "python",
   "pygments_lexer": "ipython3",
   "version": "3.10.7"
  },
  "orig_nbformat": 4,
  "vscode": {
   "interpreter": {
    "hash": "e7370f93d1d0cde622a1f8e1c04877d8463912d04d973331ad4851f04de6915a"
   }
  }
 },
 "nbformat": 4,
 "nbformat_minor": 2
}
