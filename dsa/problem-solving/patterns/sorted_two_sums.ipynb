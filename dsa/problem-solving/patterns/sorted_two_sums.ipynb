{
 "cells": [
  {
   "cell_type": "markdown",
   "metadata": {},
   "source": [
    "# Sorted two sum\n",
    "The setup is the same as Two-sum you're given an array of numbers, and a 'target' number.\n",
    "<br/>\n",
    "Write a method to return an array of the indexes of the two elements in the array that sum\n",
    "up to the goal.\n",
    "<br/> If there are no such elements, return an empty array.\n",
    "The caveat here is that the numbers are guaranteed to be sorted.\n",
    "![sorted two sums](dsa/problem-solving/images/sorted_two_sums.png)\n",
    "So let's say our goal number was 10. Our numbers to sum to it would be 3 and 7, and their\n",
    "indices 1 and 2 respectively.\n",
    "\n",
    "```\n",
    "JAVASCRIPT\n",
    "let arr = [1, 3, 7, 9, 11];\n",
    "let goal = 10;\n",
    "twoSum(arr, goal);\n",
    "// [1, 2]\n",
    "```"
   ]
  },
  {
   "cell_type": "markdown",
   "metadata": {},
   "source": [
    "## Algortihms\n",
    "As we know the array is sorted so we can use a simple way to do this with the help of two pointer approach.\n",
    "1. First take two pointer left and right pointing to the end and start of array.\n",
    "2. then make a while loop until left is greater than right. we can then check if the sum of left and right value is greater than or less than or equal to value.\n",
    "3. if its greater we can just make shift left pointer to the right as its a sorted array.\n",
    "4. if its lesser we shift right pointer to left and when the value is matched to target we return left and right.\n",
    "5. if it is out of the loop return false."
   ]
  },
  {
   "cell_type": "code",
   "execution_count": 4,
   "metadata": {},
   "outputs": [
    {
     "name": "stdout",
     "output_type": "stream",
     "text": [
      "False\n"
     ]
    }
   ],
   "source": [
    "def two_sum_sorted(arr: list, target):\n",
    "    right, left = len(arr)-1, 0\n",
    "    while left < right:\n",
    "        if arr[right] + arr[left] == target:\n",
    "            return left, right\n",
    "        elif arr[right]+arr[left] > target:\n",
    "            right -= 1\n",
    "        else:\n",
    "            left += 1\n",
    "    return False\n",
    "\n",
    "print(two_sum_sorted([1,2,5,6,7,], 5))"
   ]
  },
  {
   "cell_type": "code",
   "execution_count": null,
   "metadata": {},
   "outputs": [],
   "source": []
  }
 ],
 "metadata": {
  "kernelspec": {
   "display_name": "Python 3.10.7 64-bit",
   "language": "python",
   "name": "python3"
  },
  "language_info": {
   "codemirror_mode": {
    "name": "ipython",
    "version": 3
   },
   "file_extension": ".py",
   "mimetype": "text/x-python",
   "name": "python",
   "nbconvert_exporter": "python",
   "pygments_lexer": "ipython3",
   "version": "3.10.7"
  },
  "orig_nbformat": 4,
  "vscode": {
   "interpreter": {
    "hash": "e7370f93d1d0cde622a1f8e1c04877d8463912d04d973331ad4851f04de6915a"
   }
  }
 },
 "nbformat": 4,
 "nbformat_minor": 2
}
