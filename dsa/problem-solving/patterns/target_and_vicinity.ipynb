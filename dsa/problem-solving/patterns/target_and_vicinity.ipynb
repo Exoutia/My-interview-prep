{
 "cells": [
  {
   "cell_type": "markdown",
   "metadata": {},
   "source": [
    "# Target and Vicinities\n",
    "You're playing a game with a friend called Target and Vicinity. Target and Vicinity consists of\n",
    "one person thinking up a number in their head, and the other guessing that number.\n",
    "Sounds simple enough-- the caveat is that we also want to credit close guesses. To estimate\n",
    "the proximity of the guess to the actual number, we use the concept of \"targets\" and\n",
    "\"vicinities\" in comparing accuracy.\n",
    "<br>\n",
    "![](problem-solving/images/target-vicinities.png)"
   ]
  },
  {
   "cell_type": "markdown",
   "metadata": {},
   "source": [
    "## Algorithms\n",
    "1. we make the variable vic and tar.\n",
    "2. and take a arr of 0 with size of 10.\n",
    "3. make a for loop and during loop check if the number at that pos match if it matches we tar += 1 and if it not we make the changes to arr with digits position with that way we can have a footprint of number and when we get the number ans we will increase the vic of int.\n",
    "4. return tar and vic."
   ]
  },
  {
   "cell_type": "code",
   "execution_count": 12,
   "metadata": {},
   "outputs": [
    {
     "name": "stdout",
     "output_type": "stream",
     "text": [
      "[0, 0, 0, 0, 0, 0, 0, 0, 0, 0]\n",
      "[0, 0, 0, 1, 0, 0, 0, 0, 0, 0]\n",
      "[0, -1, 0, 2, 0, 0, 0, 0, 0, 0]\n",
      "[0, 0, 0, 1, 0, 0, 0, 0, 0, 0]\n"
     ]
    },
    {
     "data": {
      "text/plain": [
       "'1T2V'"
      ]
     },
     "execution_count": 12,
     "metadata": {},
     "output_type": "execute_result"
    }
   ],
   "source": [
    "def target_vicinity(act_num, guess):\n",
    "    nums = [0]*10\n",
    "    tar = 0\n",
    "    vic = 0\n",
    "    for pos in range(len(guess)):\n",
    "        print(nums)\n",
    "        act_char = act_num[pos]\n",
    "        gue_char = guess[pos]\n",
    "        if act_char == gue_char:\n",
    "            tar += 1\n",
    "            nums[int(act_char)] += 1\n",
    "        else:\n",
    "            if nums[int(act_char)] < 0: \n",
    "                vic += 1\n",
    "            if nums[int(gue_char)] > 0: \n",
    "                vic += 1\n",
    "            nums[int(act_char)] += 1\n",
    "            nums[int(gue_char)] -= 1\n",
    "    print(nums)\n",
    "    return f'{tar}T{vic}V'\n",
    "\n",
    "target_vicinity('331', '313')"
   ]
  },
  {
   "cell_type": "code",
   "execution_count": null,
   "metadata": {},
   "outputs": [],
   "source": []
  }
 ],
 "metadata": {
  "kernelspec": {
   "display_name": "Python 3.10.7 64-bit",
   "language": "python",
   "name": "python3"
  },
  "language_info": {
   "codemirror_mode": {
    "name": "ipython",
    "version": 3
   },
   "file_extension": ".py",
   "mimetype": "text/x-python",
   "name": "python",
   "nbconvert_exporter": "python",
   "pygments_lexer": "ipython3",
   "version": "3.10.7"
  },
  "orig_nbformat": 4,
  "vscode": {
   "interpreter": {
    "hash": "e7370f93d1d0cde622a1f8e1c04877d8463912d04d973331ad4851f04de6915a"
   }
  }
 },
 "nbformat": 4,
 "nbformat_minor": 2
}
