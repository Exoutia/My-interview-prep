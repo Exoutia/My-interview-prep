{
 "cells": [
  {
   "cell_type": "markdown",
   "metadata": {},
   "source": [
    "# Find Duplicate Words \n",
    "A very common interview challenge is to determine how often words appear in a given string or set of strings. Here's a version of this: return a list of duplicate words in sentence.\n",
    "![find duplicate words](problem-solving/images/find-duplicate-words.png)\n",
    "For example, given 'The dog is the best', returns [\"the\"].\n",
    "Likewise, given 'Happy thanksgiving, I am so full', you would return an empty array.\n",
    "This is because there are no duplicates in the string.\n",
    "To find duplicates, we'll need a way to analyze the occurrences of each word in the string.\n",
    "The first thing we'll want to do is split up the inputted string into the words themselves,\n",
    "allowing us to \"operate\" on each one."
   ]
  },
  {
   "cell_type": "markdown",
   "metadata": {},
   "source": [
    "## Algorithms\n",
    "1. this is easy strip or split the word of string using any method\n",
    "2. count the number of words appeared and return the list of words appear using hash map\n"
   ]
  },
  {
   "cell_type": "code",
   "execution_count": 1,
   "metadata": {},
   "outputs": [
    {
     "data": {
      "text/plain": [
       "['is', 'end']"
      ]
     },
     "execution_count": 1,
     "metadata": {},
     "output_type": "execute_result"
    }
   ],
   "source": [
    "from collections import Counter\n",
    "\n",
    "\n",
    "def duplicate_words(sent: str):\n",
    "    words = sent.lower().strip().split()\n",
    "    x = Counter(words)\n",
    "    return [i for i in x if x[i]>1]\n",
    "\n",
    "duplicate_words('words is word, is end is also end')"
   ]
  },
  {
   "cell_type": "code",
   "execution_count": null,
   "metadata": {},
   "outputs": [],
   "source": []
  }
 ],
 "metadata": {
  "kernelspec": {
   "display_name": "Python 3.10.7 64-bit",
   "language": "python",
   "name": "python3"
  },
  "language_info": {
   "codemirror_mode": {
    "name": "ipython",
    "version": 3
   },
   "file_extension": ".py",
   "mimetype": "text/x-python",
   "name": "python",
   "nbconvert_exporter": "python",
   "pygments_lexer": "ipython3",
   "version": "3.10.7"
  },
  "orig_nbformat": 4,
  "vscode": {
   "interpreter": {
    "hash": "e7370f93d1d0cde622a1f8e1c04877d8463912d04d973331ad4851f04de6915a"
   }
  }
 },
 "nbformat": 4,
 "nbformat_minor": 2
}
