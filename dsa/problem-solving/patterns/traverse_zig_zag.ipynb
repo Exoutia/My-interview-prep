{
 "cells": [
  {
   "cell_type": "markdown",
   "metadata": {},
   "source": [
    "# Traverse in a zig zag\n",
    "Here's a fun one: can you write a method to return the nodes of a binary tree in a zig zag\n",
    "level order?\n",
    "![traverse in zig-zag](../images/traverse-zig-zag.png)"
   ]
  },
  {
   "cell_type": "code",
   "execution_count": null,
   "metadata": {},
   "outputs": [],
   "source": [
    "def zigZagTraversal(root):\n",
    "    res = []\n",
    "    queue = []\n",
    "    direc = True\n",
    "    if root:\n",
    "        queue.append(root)\n",
    "        while queue:\n",
    "            cur_level_size = len(queue)\n",
    "            cur_level = []\n",
    "            for i in range(cur_level_size):\n",
    "                cur_node = queue.pop(0)\n",
    "                cur_level.append(cur_node.val)\n",
    "                if cur_node.left:\n",
    "                    queue.append(cur_node.left)\n",
    "                if cur_node.right:\n",
    "                    queue.append(cur_node.right)\n",
    "            if not direc:\n",
    "                cur_level = cur_level[::-1]\n",
    "            res.append(cur_level)\n",
    "            direc = not direc\n",
    "    return res\n"
   ]
  }
 ],
 "metadata": {
  "kernelspec": {
   "display_name": "Python 3.10.8 64-bit",
   "language": "python",
   "name": "python3"
  },
  "language_info": {
   "name": "python",
   "version": "3.10.8"
  },
  "orig_nbformat": 4,
  "vscode": {
   "interpreter": {
    "hash": "e7370f93d1d0cde622a1f8e1c04877d8463912d04d973331ad4851f04de6915a"
   }
  }
 },
 "nbformat": 4,
 "nbformat_minor": 2
}
