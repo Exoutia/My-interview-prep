{
 "cells": [
  {
   "cell_type": "markdown",
   "metadata": {},
   "source": [
    "# Traverse in a zig zag\n",
    "Here's a fun one: can you write a method to return the nodes of a binary tree in a zig zag\n",
    "level order?\n",
    "![traverse in zig-zag](../images/traverse-zig-zag.png)"
   ]
  },
  {
   "cell_type": "code",
   "execution_count": null,
   "metadata": {},
   "outputs": [],
   "source": [
    "def zigZagTraversal(root):\n",
    "    res = []\n",
    "    queue = []\n",
    "    direc = True\n",
    "    if root:\n",
    "        queue.append(root)\n",
    "        while queue:\n",
    "            cur_level_size = len(queue)\n",
    "            cur_level = []\n",
    "            for i in range(cur_level_size):\n",
    "                cur_node = queue.pop(0)\n",
    "                cur_level.append(cur_node.val)\n",
    "                if cur_node.left:\n",
    "                    queue.append(cur_node.left)\n",
    "                if cur_node.right:\n",
    "                    queue.append(cur_node.right)\n",
    "            if not direc:\n",
    "                cur_level = cur_level[::-1]\n",
    "            res.append(cur_level)\n",
    "            direc = not direc\n",
    "    return res\n"
   ]
  }
 ],
 "metadata": {
  "language_info": {
   "name": "python"
  },
  "orig_nbformat": 4
 },
 "nbformat": 4,
 "nbformat_minor": 2
}
