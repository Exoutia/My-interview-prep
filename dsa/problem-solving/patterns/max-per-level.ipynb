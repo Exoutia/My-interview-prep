{
 "cells": [
  {
   "cell_type": "markdown",
   "metadata": {},
   "source": [
    "# Max Per Level\n",
    "Given a binary tree, write a method to return an array containing the largest (by value) node\n",
    "values at each level. In other words, we're looking for the max per level.\n",
    "<br>\n",
    "![Max per level diagram](problem-solving/images/max-per-level.png)\n",
    "<br>\n",
    "So for instance, given the following binary tree, we'd get [2, 7, 9] if the method grabbed\n",
    "the correct maxes."
   ]
  },
  {
   "cell_type": "markdown",
   "metadata": {},
   "source": [
    "## Algorithms\n",
    "1. so we want the max element per row so which is the way to go as wide as possible in a single level. the ans is bfs no prizes there.\n",
    "2. make a max var with least negative number possible. and update it at every row. during search\n",
    "3. return the array of max elements collected.\n"
   ]
  },
  {
   "cell_type": "code",
   "execution_count": 1,
   "metadata": {},
   "outputs": [
    {
     "data": {
      "text/plain": [
       "[1, 3, 7, 13]"
      ]
     },
     "execution_count": 1,
     "metadata": {},
     "output_type": "execute_result"
    }
   ],
   "source": [
    "class node:\n",
    "    def __init__(self, val) -> None:\n",
    "        self.val = val\n",
    "        self.right = self.left = None\n",
    "\n",
    "def max_per_level(root):\n",
    "    if root is None:\n",
    "        return []\n",
    "    max_per = []\n",
    "    queue = [root]\n",
    "\n",
    "    while queue:\n",
    "        q_size = len(queue)\n",
    "        max_val = float('-inf')\n",
    "\n",
    "        for _ in range(q_size):\n",
    "            cur_node = queue.pop(0)\n",
    "            max_val = max(max_val, cur_node.val)\n",
    "            if cur_node.left:\n",
    "                queue.append(cur_node.left)\n",
    "            if cur_node.right:\n",
    "                queue.append(cur_node.right)\n",
    "        max_per.append(max_val)\n",
    "    return max_per\n",
    "\n",
    "root = node(1)\n",
    "root.left = node(2)\n",
    "root.right = node(3)\n",
    "root.left.left = node(4)\n",
    "root.left.right = node(5)\n",
    "root.right.left = node(6)\n",
    "root.right.right = node(7)\n",
    "root.left.left.left = node(8)\n",
    "root.left.left.right = node(9)\n",
    "root.left.right.left = node(10)\n",
    "root.left.right.right = node(11)\n",
    "root.right.left.left = node(12)\n",
    "root.right.left.right = node(13)\n",
    "max_per_level(root)"
   ]
  },
  {
   "cell_type": "code",
   "execution_count": null,
   "metadata": {},
   "outputs": [],
   "source": []
  }
 ],
 "metadata": {
  "kernelspec": {
   "display_name": "Python 3.10.7 64-bit",
   "language": "python",
   "name": "python3"
  },
  "language_info": {
   "codemirror_mode": {
    "name": "ipython",
    "version": 3
   },
   "file_extension": ".py",
   "mimetype": "text/x-python",
   "name": "python",
   "nbconvert_exporter": "python",
   "pygments_lexer": "ipython3",
   "version": "3.10.7"
  },
  "orig_nbformat": 4,
  "vscode": {
   "interpreter": {
    "hash": "e7370f93d1d0cde622a1f8e1c04877d8463912d04d973331ad4851f04de6915a"
   }
  }
 },
 "nbformat": 4,
 "nbformat_minor": 2
}
