{
 "cells": [
  {
   "cell_type": "markdown",
   "metadata": {},
   "source": [
    "# Is a subsequence\n",
    "Find out that if a string is a substring of some other string.\n",
    "<br/>\n",
    "**Input:** \"sting\", \"stig\"\n",
    "<br/>\n",
    "**Output:** True\n",
    "\n"
   ]
  },
  {
   "cell_type": "markdown",
   "metadata": {},
   "source": [
    "## Algorithms\n",
    "1. We are going to use two pointer approach as we know it.\n",
    "2. one pointer for the looping the main string and other for getting substring.\n",
    "3. When one of char matches we also increase the pointer to second string.\n",
    "4. and if the second pointer is same as the last char we return true.\n",
    "5. if not and the first pointer get out of it we return the false."
   ]
  },
  {
   "cell_type": "code",
   "execution_count": 7,
   "metadata": {},
   "outputs": [
    {
     "name": "stdout",
     "output_type": "stream",
     "text": [
      "True\n"
     ]
    }
   ],
   "source": [
    "def if_sub(str1, str2):\n",
    "    j = 0\n",
    "    for i in range(len(str1)):\n",
    "        if str1[i] == str2[j]:\n",
    "            j += 1\n",
    "            if j == len(str2):\n",
    "                return True\n",
    "    return False\n",
    "\n",
    "print(if_sub('12346','146'))"
   ]
  },
  {
   "cell_type": "code",
   "execution_count": null,
   "metadata": {},
   "outputs": [],
   "source": []
  }
 ],
 "metadata": {
  "kernelspec": {
   "display_name": "Python 3.10.7 64-bit",
   "language": "python",
   "name": "python3"
  },
  "language_info": {
   "codemirror_mode": {
    "name": "ipython",
    "version": 3
   },
   "file_extension": ".py",
   "mimetype": "text/x-python",
   "name": "python",
   "nbconvert_exporter": "python",
   "pygments_lexer": "ipython3",
   "version": "3.10.7"
  },
  "orig_nbformat": 4,
  "vscode": {
   "interpreter": {
    "hash": "e7370f93d1d0cde622a1f8e1c04877d8463912d04d973331ad4851f04de6915a"
   }
  }
 },
 "nbformat": 4,
 "nbformat_minor": 2
}
