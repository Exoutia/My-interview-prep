{
 "cells": [
  {
   "cell_type": "markdown",
   "metadata": {},
   "source": [
    "# Implement a Hash Map\n",
    "\n",
    "Arrays are amazing for looking up elements at specific indices as all elements in memory are\n",
    "contiguous, allowing for O(1) or constant time lookups. But often we don't, or can't, perform\n",
    "lookups via indices. Hash maps and hash tables are a way around this, enabling us to lookup\n",
    "via keys instead.\n",
    "Can you implement the Map class from scratch? Only two methods are necessary-- get and set. Many programming languages have a built-in hash or dictionary primitive(like Javascript Objects and {} notation), but we don't want to use that for this exercise.\n",
    "<br/>\n",
    "![hash map](problem-solving/images/implement_hash_map.png)\n"
   ]
  },
  {
   "cell_type": "code",
   "execution_count": 10,
   "metadata": {},
   "outputs": [
    {
     "data": {
      "text/plain": [
       "'True'"
      ]
     },
     "execution_count": 10,
     "metadata": {},
     "output_type": "execute_result"
    }
   ],
   "source": [
    "class HashTable:\n",
    "    def __init__(self, size = None) -> None:\n",
    "        self.size = size if size else 25\n",
    "        self.hash_map = self.create_buckets()\n",
    "    \n",
    "    def create_buckets(self):\n",
    "        return [[] for _ in range(self.size)]\n",
    "    \n",
    "    def set_val(self, key, val):\n",
    "        hashed_key = hash(key) % self.size\n",
    "        bucket = self.hash_map[hashed_key]\n",
    "        \n",
    "        found_key = False\n",
    "        for index, record in enumerate(bucket):\n",
    "            recorded_key, recorded_val = record\n",
    "\n",
    "            if recorded_key == key:\n",
    "                found_key = True\n",
    "                break\n",
    "        if found_key:\n",
    "            bucket[index] = (key, val)\n",
    "        else:\n",
    "            bucket.append((key, val))\n",
    "        \n",
    "    def get_val(self, key):\n",
    "        hashed_key = hash(key) % self.size\n",
    "        bucket = self.hash_map[hashed_key]\n",
    "\n",
    "        found_key = False\n",
    "        for index, record in enumerate(bucket):\n",
    "            recorded_key, recorded_val = record\n",
    "\n",
    "            if recorded_key == key:\n",
    "                found_key = True\n",
    "                break\n",
    "        \n",
    "        if found_key:\n",
    "            return recorded_val\n",
    "        else:\n",
    "            raise KeyError('Key is not in hashmap')\n",
    "    \n",
    "    def delete_val(self, key):\n",
    "        hashed_key = hash(key) % self.size\n",
    "        bucket = self.hash_map[hashed_key]\n",
    "\n",
    "        found_key = False\n",
    "        for index, record in enumerate(bucket):\n",
    "            recorded_key, recorded_val = record\n",
    "\n",
    "            if recorded_key == key:\n",
    "                found_key = True\n",
    "                break\n",
    "        \n",
    "        if found_key:\n",
    "            bucket.pop(index)\n",
    "        else:\n",
    "            raise KeyError('Key is not in hashmap')\n",
    "\n",
    "x = HashTable()\n",
    "x.set_val(12, 'True')\n",
    "x.set_val(23, 'True')\n",
    "x.set_val(12222, 'False')\n",
    "x.get_val(12)\n",
    "x.get_val(23)\n",
    "x.get_val(12222)\n",
    "x.delete_val(23)\n",
    "x.get_val(12)"
   ]
  },
  {
   "cell_type": "markdown",
   "metadata": {},
   "source": []
  }
 ],
 "metadata": {
  "kernelspec": {
   "display_name": "Python 3.10.7 64-bit",
   "language": "python",
   "name": "python3"
  },
  "language_info": {
   "codemirror_mode": {
    "name": "ipython",
    "version": 3
   },
   "file_extension": ".py",
   "mimetype": "text/x-python",
   "name": "python",
   "nbconvert_exporter": "python",
   "pygments_lexer": "ipython3",
   "version": "3.10.7"
  },
  "orig_nbformat": 4,
  "vscode": {
   "interpreter": {
    "hash": "e7370f93d1d0cde622a1f8e1c04877d8463912d04d973331ad4851f04de6915a"
   }
  }
 },
 "nbformat": 4,
 "nbformat_minor": 2
}
