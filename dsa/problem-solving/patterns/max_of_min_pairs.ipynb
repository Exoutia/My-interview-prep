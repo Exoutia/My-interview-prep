{
 "cells": [
  {
   "cell_type": "markdown",
   "metadata": {},
   "source": [
    "# Max of min piars\n",
    "We have an array of length 2*n that consists of random integers, we are asked to create pairs out of these integers, like that the sum of all min number in pair is maximum.\n",
    "<br/>\n",
    "**Input:** [1,3,2,6,5,4]\n",
    "<br/>\n",
    "**Output:** [[1,2],[3,4],[5,6]]"
   ]
  },
  {
   "cell_type": "markdown",
   "metadata": {},
   "source": [
    "## Algorithm\n",
    "As we can from question we need to get the maximum sums of min number from pair we can guess that we need to make the pair of closest number with each other so that we can have the number as large as sum in the output. Now we know the way to think we can easily come to the conclusion that to get the closest number to each other we can just sort the elements and pair them each other.\n",
    "1. sort the elements.\n",
    "2. make the pair with every two elements by running a for loop with range such as to select even number only start from 0.\n",
    "3. return that list.\n"
   ]
  },
  {
   "cell_type": "code",
   "execution_count": 1,
   "metadata": {},
   "outputs": [
    {
     "name": "stdout",
     "output_type": "stream",
     "text": [
      "[[1, 2], [3, 4], [5, 6]]\n"
     ]
    }
   ],
   "source": [
    "def max_of_min(nums):\n",
    "    nums.sort()\n",
    "    res = []\n",
    "    for i in range(0, len(nums), 2):\n",
    "        res.append([nums[i], nums[i+1]])\n",
    "    return res\n",
    "\n",
    "print(max_of_min([1,3,4,5,6,2]))\n",
    "                "
   ]
  },
  {
   "cell_type": "code",
   "execution_count": null,
   "metadata": {},
   "outputs": [],
   "source": []
  }
 ],
 "metadata": {
  "kernelspec": {
   "display_name": "Python 3.10.7 64-bit",
   "language": "python",
   "name": "python3"
  },
  "language_info": {
   "codemirror_mode": {
    "name": "ipython",
    "version": 3
   },
   "file_extension": ".py",
   "mimetype": "text/x-python",
   "name": "python",
   "nbconvert_exporter": "python",
   "pygments_lexer": "ipython3",
   "version": "3.10.7"
  },
  "orig_nbformat": 4,
  "vscode": {
   "interpreter": {
    "hash": "e7370f93d1d0cde622a1f8e1c04877d8463912d04d973331ad4851f04de6915a"
   }
  }
 },
 "nbformat": 4,
 "nbformat_minor": 2
}
