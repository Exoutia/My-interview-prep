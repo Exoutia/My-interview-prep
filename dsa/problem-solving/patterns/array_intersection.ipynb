{
 "cells": [
  {
   "cell_type": "markdown",
   "metadata": {},
   "source": [
    "# Intersection of arrays\n",
    "Can you write a fucntion that takes two arrays as inputs and returns to us their intersection.\n",
    "So basically I need to write a function which return common elements between array and return it as array.\n",
    "Note that all elements in the result should be unique.\n",
    "<br>\n",
    "input: [1,2,3,4,5] and [2, 3, 5]\n",
    "output: [2, 3, 5]\n",
    "<br>\n",
    "input: [1,2,2,1] and [2,2]\n",
    "output: [2]\n",
    "<br>\n",
    "input: [4,9,5] and [9,9,4,7,9,4]\n",
    "output: [4, 9]"
   ]
  },
  {
   "cell_type": "code",
   "execution_count": 9,
   "metadata": {},
   "outputs": [],
   "source": [
    "test1 = [[1,2,3,4,5], [1,2,2,1], [4,9,5]]\n",
    "test2 = [[2,3,5], [2,2], [9,9,4,7,9,4]]\n",
    "output = [[2,3,5], [2], [9, 4]]"
   ]
  },
  {
   "cell_type": "code",
   "execution_count": 10,
   "metadata": {},
   "outputs": [
    {
     "name": "stdout",
     "output_type": "stream",
     "text": [
      "[2, 3, 5] True\n",
      "[2] True\n",
      "[9, 4] True\n"
     ]
    }
   ],
   "source": [
    "k = 0\n",
    "for i, j in zip(test1, test2):\n",
    "    lis = list(set(i).intersection(set(j)))\n",
    "    print(lis, lis==output[k])\n",
    "    k+= 1"
   ]
  },
  {
   "cell_type": "code",
   "execution_count": null,
   "metadata": {},
   "outputs": [],
   "source": []
  }
 ],
 "metadata": {
  "kernelspec": {
   "display_name": "Python 3.10.6 64-bit",
   "language": "python",
   "name": "python3"
  },
  "language_info": {
   "codemirror_mode": {
    "name": "ipython",
    "version": 3
   },
   "file_extension": ".py",
   "mimetype": "text/x-python",
   "name": "python",
   "nbconvert_exporter": "python",
   "pygments_lexer": "ipython3",
   "version": "3.10.6"
  },
  "orig_nbformat": 4,
  "vscode": {
   "interpreter": {
    "hash": "e7370f93d1d0cde622a1f8e1c04877d8463912d04d973331ad4851f04de6915a"
   }
  }
 },
 "nbformat": 4,
 "nbformat_minor": 2
}
