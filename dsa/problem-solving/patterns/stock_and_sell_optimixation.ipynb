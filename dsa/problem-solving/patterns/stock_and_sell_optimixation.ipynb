{
 "cells": [
  {
   "cell_type": "markdown",
   "metadata": {},
   "source": [
    "# Stock Buy and Sell Optimization\n",
    "This is a classic technical interview question that I've seen a number of times in real life\n",
    "interviews. Let's say you're given an array of stock prices, with each element being an integer\n",
    "that represents a price in dollars.\n",
    "```\n",
    "SNIPPET\n",
    "[ 10, 7, 6, 2, 9, 4 ]\n",
    "```\n",
    "Each index of the array represents a single day, and the the element at that index is the stock\n",
    "price for that given day. This means that the array below represents:\n",
    "```\n",
    "JAVASCRIPT\n",
    "const prices = [ 10, 7, 6, 2, 9, 4 ];\n",
    "// Day 0 - a price of `$10`\n",
    "// Day 1 - `$7`\n",
    "// Day 2 - `$6` (and so on...)\n",
    "```\n",
    "Given the ability to only buy once and sell once, our goal is to maximize the amount of profit\n",
    "(selling price - purchase price) that we can attain and return that value. Note the only caveat\n",
    "is that that we cannot sell a stock before we buy it, which is important in identifying a\n",
    "solution.\n",
    "Can you write a stock optimizer method called stockOptimizer? See the following examples\n",
    "for further clarification:\n",
    "```\n",
    "JAVASCRIPT\n",
    "stockOptimizer([ 10, 7, 6, 2, 9, 4 ])\n",
    "// 7\n",
    "```\n"
   ]
  },
  {
   "cell_type": "markdown",
   "metadata": {},
   "source": [
    "## Algorithms\n",
    "\n",
    "there are two ways both are same complexity and just the differnce is that one is taking the max price and other is taking min price by getting the ans.\n",
    "1. first take the max_profit and min price is equal to the first element of arr.\n",
    "2. run a loop from the second element of arr to the end.\n",
    "3. at every check for the min price and between current element and the min_price variable.\n",
    "4. and also check for the max profit with min price and current element and as we know the ans will be always in forward in the array we can use this.\n",
    "5. at last return the ans as max_profit.\n"
   ]
  },
  {
   "cell_type": "code",
   "execution_count": 4,
   "metadata": {},
   "outputs": [
    {
     "name": "stdout",
     "output_type": "stream",
     "text": [
      "True\n"
     ]
    }
   ],
   "source": [
    "def max_profit(arr: list):\n",
    "    if len(arr)==0:\n",
    "        return 0\n",
    "    min_price = arr[0]\n",
    "    max_profit = 0\n",
    "    for i in range(1, len(arr)):\n",
    "        min_price = min(min_price, arr[i])\n",
    "        max_profit = max(max_profit, arr[i]-min_price)\n",
    "    \n",
    "    return max_profit\n",
    "\n",
    "def max_profit2(arr: list):\n",
    "    if len(arr)==0 or len(arr)==1:\n",
    "        return 0\n",
    "    cur_max = arr[-1]\n",
    "    max_profit = 0\n",
    "    for i in range(len(arr)-1, -1, -1):\n",
    "        cur_max = max(cur_max, arr[i])\n",
    "        max_profit = max(max_profit, cur_max-arr[i])\n",
    "    return max_profit\n",
    "    \n",
    "\n",
    "print(max_profit([10, 7, 6, 2, 9, 4,])==max_profit2([10, 7, 6, 2, 9, 4,]))"
   ]
  },
  {
   "cell_type": "code",
   "execution_count": null,
   "metadata": {},
   "outputs": [],
   "source": []
  }
 ],
 "metadata": {
  "kernelspec": {
   "display_name": "Python 3.10.7 64-bit",
   "language": "python",
   "name": "python3"
  },
  "language_info": {
   "codemirror_mode": {
    "name": "ipython",
    "version": 3
   },
   "file_extension": ".py",
   "mimetype": "text/x-python",
   "name": "python",
   "nbconvert_exporter": "python",
   "pygments_lexer": "ipython3",
   "version": "3.10.7"
  },
  "orig_nbformat": 4,
  "vscode": {
   "interpreter": {
    "hash": "e7370f93d1d0cde622a1f8e1c04877d8463912d04d973331ad4851f04de6915a"
   }
  }
 },
 "nbformat": 4,
 "nbformat_minor": 2
}
