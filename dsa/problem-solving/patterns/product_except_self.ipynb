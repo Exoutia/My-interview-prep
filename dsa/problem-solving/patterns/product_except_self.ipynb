{
 "cells": [
  {
   "cell_type": "markdown",
   "metadata": {},
   "source": [
    "# Product except self\n",
    "If we are given an array of integers, can you return an output array such that each\n",
    "corresponding input's elements returns the product of the input array except itself?\n",
    "![](../images/product-except-self.png)\n",
    "This can be hard to explain, so let's take an array: `[1, 2, 4, 16]`\n",
    "<br/>\n",
    "What we want to return is `[128, 64, 32, 8]`. This is because `2 x 4 x 16 = 128, 1 x 4 x 16 = 64, 1 x 2 x 16 = 32`, and `1 x 2 x 4 = 8`. At each index, we ignore the number at that index and multiply the rest.\n",
    "In other words, `output[i]` is equal to the product of all the elements in the array other\n",
    "than `input[i]`.\n",
    "Can you solve this in O(n) time without division?"
   ]
  },
  {
   "cell_type": "markdown",
   "metadata": {},
   "source": [
    "## Algorithms\n",
    "1. first we make a output array and fill it with the snowballing product that we got from multiply that position number with it previous number of input array. this goes from right to left.\n",
    "2. then we again make the snowball product but this time from last (left to right) by reverse looping of input array.\n",
    "3. and atlast return the res output array."
   ]
  },
  {
   "cell_type": "code",
   "execution_count": 2,
   "metadata": {},
   "outputs": [],
   "source": [
    "def prod_arr(arr: list):\n",
    "    res = []\n",
    "    prod = 1\n",
    "    for i in arr:\n",
    "        res.append(prod)\n",
    "        prod *= i\n",
    "    prod = 1\n",
    "    for i in range(len(arr)-1, -1, -1):\n",
    "        res[i] *= prod\n",
    "        prod = prod * arr[i]    \n",
    "    return res\n"
   ]
  },
  {
   "cell_type": "code",
   "execution_count": 3,
   "metadata": {},
   "outputs": [
    {
     "name": "stdout",
     "output_type": "stream",
     "text": [
      "[128, 64, 32, 8] [128, 64, 32, 8]\n"
     ]
    }
   ],
   "source": [
    "def product(arr):\n",
    "    prod = 1\n",
    "    for i in arr:\n",
    "        prod *= i\n",
    "    return [prod//i for i in arr]\n",
    "\n",
    "print(product([1,2,4,16]), prod_arr([1,2,4,16]))"
   ]
  },
  {
   "cell_type": "code",
   "execution_count": null,
   "metadata": {},
   "outputs": [],
   "source": []
  }
 ],
 "metadata": {
  "kernelspec": {
   "display_name": "Python 3.10.7 64-bit",
   "language": "python",
   "name": "python3"
  },
  "language_info": {
   "codemirror_mode": {
    "name": "ipython",
    "version": 3
   },
   "file_extension": ".py",
   "mimetype": "text/x-python",
   "name": "python",
   "nbconvert_exporter": "python",
   "pygments_lexer": "ipython3",
   "version": "3.10.7"
  },
  "orig_nbformat": 4,
  "vscode": {
   "interpreter": {
    "hash": "e7370f93d1d0cde622a1f8e1c04877d8463912d04d973331ad4851f04de6915a"
   }
  }
 },
 "nbformat": 4,
 "nbformat_minor": 2
}
