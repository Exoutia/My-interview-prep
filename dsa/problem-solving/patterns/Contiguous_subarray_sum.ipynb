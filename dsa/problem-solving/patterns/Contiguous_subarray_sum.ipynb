{
 "cells": [
  {
   "cell_type": "markdown",
   "metadata": {},
   "source": [
    "# Contiguous Subarray Sum\n",
    "Given an array of numbers, return true if there is a contiguous subarray that sums up to a certain number target.\n",
    "<br/>\n",
    "**Input:** [1,2,3,4,7], 5\n",
    "**Output:** True"
   ]
  },
  {
   "cell_type": "markdown",
   "metadata": {},
   "source": [
    "## Algorithms\n",
    "1. Iterate through the array.\n",
    "2. At each step, calculate the running sum.\n",
    "3. Try to find the differnece of the running sun and the target in the hash.\n",
    "4. Otherwise, store the sum as a key in the hash."
   ]
  },
  {
   "cell_type": "code",
   "execution_count": 6,
   "metadata": {},
   "outputs": [
    {
     "name": "stdout",
     "output_type": "stream",
     "text": [
      "{0: True, 1: True} -8\n",
      "{0: True, 1: True, 3: True} -6\n",
      "True\n"
     ]
    }
   ],
   "source": [
    "def contiguous_sum(arr: list, tar)-> bool:\n",
    "    hash_tab = {0: True}\n",
    "    run_sum = 0\n",
    "    for i in arr:\n",
    "        run_sum += i\n",
    "\n",
    "        if (run_sum - tar) in hash_tab:\n",
    "            return True\n",
    "        hash_tab[run_sum] = True\n",
    "        print(hash_tab, run_sum-tar)\n",
    "    return False\n",
    "\n",
    "print(contiguous_sum([1,2,7,5,1],9))"
   ]
  },
  {
   "cell_type": "code",
   "execution_count": null,
   "metadata": {},
   "outputs": [],
   "source": []
  }
 ],
 "metadata": {
  "kernelspec": {
   "display_name": "Python 3.10.7 64-bit",
   "language": "python",
   "name": "python3"
  },
  "language_info": {
   "codemirror_mode": {
    "name": "ipython",
    "version": 3
   },
   "file_extension": ".py",
   "mimetype": "text/x-python",
   "name": "python",
   "nbconvert_exporter": "python",
   "pygments_lexer": "ipython3",
   "version": "3.10.7"
  },
  "orig_nbformat": 4,
  "vscode": {
   "interpreter": {
    "hash": "e7370f93d1d0cde622a1f8e1c04877d8463912d04d973331ad4851f04de6915a"
   }
  }
 },
 "nbformat": 4,
 "nbformat_minor": 2
}
