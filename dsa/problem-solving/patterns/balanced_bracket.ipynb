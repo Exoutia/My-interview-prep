{
 "cells": [
  {
   "cell_type": "markdown",
   "metadata": {},
   "source": [
    "# Balanced brackets\n",
    "s a software engineer, you'll often be asked to optimize programs. One of the easiest ways\n",
    "to do so is by the introduction of an additional data structure.\n",
    "Here's another classic problem along the same vein. We're provided a string like the\n",
    "following: \"{[])}\" that is inclusive of the following symbols:\n",
    "\n",
    "    1. parentheses '()'\n",
    "    2. brackets '[]', and\n",
    "    3. curly braces '{}'.\n",
    "<br>\n",
    "Can you write a function that will check if the symbol pairings in the string follow these below\n",
    "conditions?\n",
    "\n",
    "    1. They are correctly ordered, meaning opening braces/symbols should come first.\n",
    "    2. They contain the correct pairings, so every opening brace has a closing one.\n",
    "    3. They are both of the same kind in a pair, so an opening parenthesis does not close\n",
    "    with a closing curly brace.\n",
    "For example, () is valid. (( is not. Similarly, {{[]}} is valid. [[}} is not.\n",
    "The problem calls for us to maintain two parallel symbols in a string, so we'll need some way\n",
    "to keep track of the \"balancing\".\n"
   ]
  },
  {
   "cell_type": "code",
   "execution_count": 14,
   "metadata": {},
   "outputs": [],
   "source": [
    "lis = [\"()\", \"{{{{}}}\", \"(((({[{[]}]}))))\"]"
   ]
  },
  {
   "cell_type": "code",
   "execution_count": 18,
   "metadata": {},
   "outputs": [],
   "source": [
    "def validate_brackets(text: str):\n",
    "    dic = {\")\" : \"(\", \"}\" : \"{\", \"]\" : \"[\"}\n",
    "    stack = []\n",
    "    for i in range(len(text)):\n",
    "        # print(stack)\n",
    "        if (text[i] == \"(\") or (text[i] == \"{\") or (text[i] == \"[\"):\n",
    "            stack.append(text[i])\n",
    "        else:\n",
    "            if stack[-1] == dic[text[i]]:\n",
    "                stack.pop()\n",
    "            else:\n",
    "                return False\n",
    "    return True if len(stack) == 0 else False\n",
    "\n"
   ]
  },
  {
   "cell_type": "code",
   "execution_count": 19,
   "metadata": {},
   "outputs": [
    {
     "name": "stdout",
     "output_type": "stream",
     "text": [
      "True\n",
      "False\n",
      "True\n"
     ]
    }
   ],
   "source": [
    "for i in lis:\n",
    "    print(validate_brackets(i))\n"
   ]
  },
  {
   "cell_type": "code",
   "execution_count": null,
   "metadata": {},
   "outputs": [],
   "source": []
  }
 ],
 "metadata": {
  "kernelspec": {
   "display_name": "Python 3.10.7 64-bit",
   "language": "python",
   "name": "python3"
  },
  "language_info": {
   "codemirror_mode": {
    "name": "ipython",
    "version": 3
   },
   "file_extension": ".py",
   "mimetype": "text/x-python",
   "name": "python",
   "nbconvert_exporter": "python",
   "pygments_lexer": "ipython3",
   "version": "3.10.8"
  },
  "orig_nbformat": 4,
  "vscode": {
   "interpreter": {
    "hash": "e7370f93d1d0cde622a1f8e1c04877d8463912d04d973331ad4851f04de6915a"
   }
  }
 },
 "nbformat": 4,
 "nbformat_minor": 2
}
