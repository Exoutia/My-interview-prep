{
 "cells": [
  {
   "cell_type": "markdown",
   "metadata": {},
   "source": [
    "# Balanced brackets\n",
    "s a software engineer, you'll often be asked to optimize programs. One of the easiest ways\n",
    "to do so is by the introduction of an additional data structure.\n",
    "Here's another classic problem along the same vein. We're provided a string like the\n",
    "following: \"{[])}\" that is inclusive of the following symbols:\n",
    "\n",
    "    1. parentheses '()'\n",
    "    2. brackets '[]', and\n",
    "    3. curly braces '{}'.\n",
    "<br>\n",
    "Can you write a function that will check if the symbol pairings in the string follow these below\n",
    "conditions?\n",
    "\n",
    "    1. They are correctly ordered, meaning opening braces/symbols should come first.\n",
    "    2. They contain the correct pairings, so every opening brace has a closing one.\n",
    "    3. They are both of the same kind in a pair, so an opening parenthesis does not close\n",
    "    with a closing curly brace.\n",
    "For example, () is valid. (( is not. Similarly, {{[]}} is valid. [[}} is not.\n",
    "The problem calls for us to maintain two parallel symbols in a string, so we'll need some way\n",
    "to keep track of the \"balancing\".\n"
   ]
  },
  {
   "cell_type": "code",
   "execution_count": null,
   "metadata": {},
   "outputs": [],
   "source": [
    "def "
   ]
  }
 ],
 "metadata": {
  "kernelspec": {
   "display_name": "Python 3.10.7 64-bit",
   "language": "python",
   "name": "python3"
  },
  "language_info": {
   "name": "python",
   "version": "3.10.7"
  },
  "orig_nbformat": 4,
  "vscode": {
   "interpreter": {
    "hash": "e7370f93d1d0cde622a1f8e1c04877d8463912d04d973331ad4851f04de6915a"
   }
  }
 },
 "nbformat": 4,
 "nbformat_minor": 2
}
