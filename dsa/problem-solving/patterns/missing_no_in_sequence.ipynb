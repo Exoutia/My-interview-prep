{
 "cells": [
  {
   "cell_type": "markdown",
   "metadata": {},
   "source": [
    "# Missing Number In Unsorted\n",
    "Assume we're given an unsorted array of numbers such as this:\n",
    "[ 2, 5, 1, 4, 9, 6, 3, 7 ]\n",
    "We are told that when this array is sorted, there is a series of n consecutive numbers. You\n",
    "are given a lower bound and an upper bound for this sequence.\n",
    "There is one consecutive number missing, and we need to find it.\n",
    "As an example, look at the below example. We're told that the lower bound is 1 and the\n",
    "upper bound is 9. The number that's missing in the unsorted series bounded by these two\n",
    "number is 8.\n",
    "<br/>\n",
    "**Input:**\n",
    "arr = [ 2, 5, 1, 4, 9, 6, 3, 7 ],\n",
    "lowerBound = 1,\n",
    "upperBound = 9\n",
    "<br>\n",
    "**Output:**\n",
    "8\n"
   ]
  },
  {
   "cell_type": "markdown",
   "metadata": {},
   "source": [
    "# Algorithm \n",
    "As we know the sum of natural number can be find by formaula `n*(n+2)/2`. and according to the question we can get the ans for it quickly if we fidn the sum up to lowerbound and sum up to upper bound we will get the sum of sequence given. and compare sum we get by scanning array linearly.\n",
    "1. Frist find the sum of natural numbers we get by fromula we discussed.\n",
    "2. Scan the array to find the sum of array.\n",
    "3. minus smaller sum from larger number get the missing number.\n"
   ]
  },
  {
   "cell_type": "code",
   "execution_count": 5,
   "metadata": {},
   "outputs": [
    {
     "name": "stdout",
     "output_type": "stream",
     "text": [
      "4\n"
     ]
    }
   ],
   "source": [
    "def find_missing(arr: list, lowebound: int, upperbound: int):\n",
    "    actual_sum = (upperbound*(upperbound+1)//2) - (lowebound * (lowebound - 1)//2)\n",
    "    sum_arr = sum(arr)\n",
    "    return actual_sum - sum_arr if actual_sum != sum_arr else False\n",
    "\n",
    "print(find_missing([1,2,3,5,6], 1, 6))"
   ]
  },
  {
   "cell_type": "code",
   "execution_count": null,
   "metadata": {},
   "outputs": [],
   "source": []
  }
 ],
 "metadata": {
  "kernelspec": {
   "display_name": "Python 3.10.7 64-bit",
   "language": "python",
   "name": "python3"
  },
  "language_info": {
   "codemirror_mode": {
    "name": "ipython",
    "version": 3
   },
   "file_extension": ".py",
   "mimetype": "text/x-python",
   "name": "python",
   "nbconvert_exporter": "python",
   "pygments_lexer": "ipython3",
   "version": "3.10.7"
  },
  "orig_nbformat": 4,
  "vscode": {
   "interpreter": {
    "hash": "e7370f93d1d0cde622a1f8e1c04877d8463912d04d973331ad4851f04de6915a"
   }
  }
 },
 "nbformat": 4,
 "nbformat_minor": 2
}
