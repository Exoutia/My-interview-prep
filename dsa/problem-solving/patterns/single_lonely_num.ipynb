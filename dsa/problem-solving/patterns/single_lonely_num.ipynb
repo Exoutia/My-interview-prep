{
 "cells": [
  {
   "cell_type": "markdown",
   "metadata": {},
   "source": [
    "# Single Lonely Number\n",
    "In a given array of numbers, one element will show up one and the others will each show up more than once. Find the number which is unique and lonely \n",
    "<br/>**Input**: [1,2,3,5,5,3,2]\n",
    "<br/>**Output**: 1\n"
   ]
  },
  {
   "cell_type": "markdown",
   "metadata": {},
   "source": [
    "## Algorithm\n",
    "### Using hash map \n",
    "1. As we know same elements have same hash we can use this probablity and get which element is unique.\n",
    "2. Make a hash table if element apperas we insert it and when second it appears we can delete it and this will left us with only one element at the end.\n",
    "3. This will only work if number appears in pairs.\n",
    "> Time complexity: O(n) <br/> Space Complexity: O(n)\n",
    "\n",
    "### Using XOR bit manipulation.\n",
    "- Something to know before using it \n",
    "    - If you take xor of a number with 0 it would return the same number again. <br/> `0 ^ 4 = 4`\n",
    "    - If you take xor of number with itself it will return the same number again. <br/> `4 ^ 4 = 0`\n",
    "1. So we can use this properity and find the lonely number. Store a variable with zero.\n",
    "2. First run a loop to iterate through the element in the list.\n",
    "3. Continously use xor with the previous result we got for previous operation.\n",
    "4. At the end we will got the ans just return the result."
   ]
  },
  {
   "cell_type": "code",
   "execution_count": 20,
   "metadata": {},
   "outputs": [],
   "source": [
    "def find_lonely_xor(nums):\n",
    "    res = 0\n",
    "    for i in nums:\n",
    "        res ^= i\n",
    "    return res\n",
    "\n",
    "# print(find_lonely_xor([1,2,31,4,4,1,2]))\n",
    "def find_lonely_data(nums):\n",
    "    x = dict()\n",
    "    for i in nums:\n",
    "        if i in x:\n",
    "            del x[i]\n",
    "        else:\n",
    "            x[i] = True\n",
    "    return x.keys()\n"
   ]
  },
  {
   "cell_type": "code",
   "execution_count": 21,
   "metadata": {},
   "outputs": [
    {
     "name": "stdout",
     "output_type": "stream",
     "text": [
      "using hash set:  dict_keys([1]) using xor:  1\n",
      "using hash set:  dict_keys([1]) using xor:  1\n",
      "using hash set:  dict_keys([444]) using xor:  444\n"
     ]
    }
   ],
   "source": [
    "test = [1,2,3,3,2], [1 ,2 ,2 ,3, 3, 3, 3, 4, 4], [4,555_555,555_555, 444, 4]\n",
    "for i in test:\n",
    "    print(\"using hash set: \", find_lonely_data(i), \"using xor: \", find_lonely_xor(i))"
   ]
  },
  {
   "cell_type": "code",
   "execution_count": null,
   "metadata": {},
   "outputs": [],
   "source": []
  }
 ],
 "metadata": {
  "kernelspec": {
   "display_name": "Python 3.10.7 64-bit",
   "language": "python",
   "name": "python3"
  },
  "language_info": {
   "codemirror_mode": {
    "name": "ipython",
    "version": 3
   },
   "file_extension": ".py",
   "mimetype": "text/x-python",
   "name": "python",
   "nbconvert_exporter": "python",
   "pygments_lexer": "ipython3",
   "version": "3.10.7"
  },
  "orig_nbformat": 4,
  "vscode": {
   "interpreter": {
    "hash": "e7370f93d1d0cde622a1f8e1c04877d8463912d04d973331ad4851f04de6915a"
   }
  }
 },
 "nbformat": 4,
 "nbformat_minor": 2
}
