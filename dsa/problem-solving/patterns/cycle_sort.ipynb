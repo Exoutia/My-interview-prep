{
 "cells": [
  {
   "cell_type": "markdown",
   "metadata": {},
   "source": [
    "# Cycle Sort\n",
    "This is a less commonly used sorting algorithm, but surprisingly use in programming intervals."
   ]
  },
  {
   "cell_type": "markdown",
   "metadata": {},
   "source": [
    "#### Theory\n",
    "The cycle sort algo is an in-place sorting algorithm. This means that no external data structure is required to perform the cycle sort operation.\n",
    "<br>\n",
    "The underlying assumption for the algo is that an unsorted list is similar to a graph, where nodes are connected with edges. We can assume that a relation between nodes `a` and `b` exists if -- in order to sort the array-- the element present at node `a` should be at index of node `b`.\n",
    "<br>\n"
   ]
  },
  {
   "cell_type": "markdown",
   "metadata": {},
   "source": [
    "#### Algorithm\n",
    "`[9, 4, 6, 8, 14, 3]`\n",
    "\n",
    "1. Iterate through all the elements in an array, starting with first index.\n",
    "2. At each array index, check the number of preceeding elements that are snaller than the element at current index.<br> For instance, in our array we have number 9 at the first index the number of elements preceeding it is 4 (they 4, 6, 8, 3).\n",
    "3. Replace the element at the current index with the element at the index number found in step 2.<br>For the instance, in step 2 the number of elements that are smaller than 9 was 4 thus number 9 was swaped with number at index at 4 i.e. 14. <br> `[9, 4, 6, 8, 14, 3] --> [14, 4, 6, 8, 9, 3]`\n",
    "4. Now again we compare the element at current index with all the remaining elements, (14 is compared and we got that its greater than 5 elements) and then we agian replace the current number with the element at index as the number of smaller elements. (so we swap the element 14 with element at index 5 in array)<br>`[14, 4, 6, 8, 9, 3] --> [3, 4, 6, 8, 9, 14]`\n",
    "5. The process continues until the element at the current index has no cycle or no smaller element than it has.\n",
    "6. The process continues for the second, third and the remaining indexes of the array."
   ]
  },
  {
   "cell_type": "code",
   "execution_count": 1,
   "metadata": {},
   "outputs": [],
   "source": [
    "nums = [9, 4, 6, 8, 14, 3]\n",
    "sorted_nums = sorted(nums)"
   ]
  },
  {
   "cell_type": "code",
   "execution_count": 3,
   "metadata": {},
   "outputs": [
    {
     "name": "stdout",
     "output_type": "stream",
     "text": [
      "3\n",
      "True\n"
     ]
    }
   ],
   "source": [
    "def cycle_sort(lis):\n",
    "    operations = 0\n",
    "    for cycle_index, num in enumerate(lis):\n",
    "        cur_ind = cycle_index\n",
    "        for i in lis[cycle_index+1:]:\n",
    "            if i < num:\n",
    "                cur_ind += 1\n",
    "        \n",
    "        if cur_ind == cycle_index:\n",
    "            continue\n",
    "        \n",
    "        while num == lis[cur_ind]:\n",
    "            cur_ind += 1\n",
    "        lis[cur_ind], num = num, lis[cur_ind]\n",
    "        operations += 1\n",
    "        \n",
    "        while cur_ind != cycle_index:\n",
    "            cur_ind = cycle_index\n",
    "            for cur_num in lis[cycle_index+1:]:\n",
    "                if cur_num < num:\n",
    "                    cur_ind += 1\n",
    "            while num == lis[cur_ind]:\n",
    "                cur_ind += 1\n",
    "            lis[cur_ind], num = num, lis[cur_ind]\n",
    "            operations += 1\n",
    "    return operations\n",
    "    \n",
    "\n",
    "print(cycle_sort(nums))\n",
    "print(nums==sorted_nums)\n",
    "        "
   ]
  },
  {
   "cell_type": "code",
   "execution_count": null,
   "metadata": {},
   "outputs": [],
   "source": []
  }
 ],
 "metadata": {
  "kernelspec": {
   "display_name": "Python 3.10.6 64-bit",
   "language": "python",
   "name": "python3"
  },
  "language_info": {
   "codemirror_mode": {
    "name": "ipython",
    "version": 3
   },
   "file_extension": ".py",
   "mimetype": "text/x-python",
   "name": "python",
   "nbconvert_exporter": "python",
   "pygments_lexer": "ipython3",
   "version": "3.10.6"
  },
  "orig_nbformat": 4,
  "vscode": {
   "interpreter": {
    "hash": "e7370f93d1d0cde622a1f8e1c04877d8463912d04d973331ad4851f04de6915a"
   }
  }
 },
 "nbformat": 4,
 "nbformat_minor": 2
}
