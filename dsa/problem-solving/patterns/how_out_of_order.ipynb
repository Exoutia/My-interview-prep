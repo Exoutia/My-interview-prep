{
 "cells": [
  {
   "cell_type": "markdown",
   "metadata": {},
   "source": [
    "# How out of order \n",
    "Determine how \"out of order\" a list is by writing a function that returns the number of inversions in the list.\n",
    "<br/>\n",
    "Two elements of a list arr, arr[i] and arr[j] form an inversion if arr[i] > arr[j] but i < J,\n",
    "![](problem-solving/images/how-out-of-order.png)\n",
    "For example, the list [5,4,3,2,1] has 10 inversions since every element is out order. They are the following: (5, 4), (5,3), (5,2), (5,1), (4,3), (4,2), (4,1), (3,2),\n",
    "(3,1), (2,1).\n",
    "<br/>\n",
    "The list [2, 1, 4, 3, 5] has two inversions: (2, 1) and (4, 3).\n",
    "Do this in better than O(N^2)."
   ]
  },
  {
   "cell_type": "markdown",
   "metadata": {},
   "source": [
    "## Algorithms \n",
    "1. For this we can use sorting.\n",
    "2. is there a way to find out which is in wrong plus during sorting.\n",
    "3. the ans is merge sort that is how we know the ans."
   ]
  },
  {
   "cell_type": "code",
   "execution_count": 3,
   "metadata": {},
   "outputs": [
    {
     "name": "stdout",
     "output_type": "stream",
     "text": [
      "[1, 2, 3, 4, 5, 6, 7, 8, 9, 10, 11, 12, 13, 14, 15, 16, 17, 18, 19, 20]\n"
     ]
    }
   ],
   "source": [
    "# Merge sorting \n",
    "\n",
    "def merge_sort(arr: list):\n",
    "    if len(arr) == 1:\n",
    "        return arr\n",
    "    else:\n",
    "        mid = len(arr)//2\n",
    "        sub_lis1 = arr[mid:]\n",
    "        sub_lis2 = arr[:mid]\n",
    "        sub_lis1 = merge_sort(sub_lis1)\n",
    "        sub_lis2 = merge_sort(sub_lis2)\n",
    "        \n",
    "        merge = []\n",
    "        i = j = 0\n",
    "        \n",
    "        while i < len(sub_lis1) and j < len(sub_lis2):\n",
    "            if sub_lis1[i] < sub_lis2[j]:\n",
    "                merge.append(sub_lis1[i])\n",
    "                i += 1\n",
    "            else:\n",
    "                merge.append(sub_lis2[j])\n",
    "                j += 1\n",
    "        \n",
    "        while i < len(sub_lis1):\n",
    "            merge.append(sub_lis1[i])\n",
    "            i += 1\n",
    "        \n",
    "        while j < len(sub_lis2):\n",
    "            merge.append(sub_lis2[j])\n",
    "            j += 1\n",
    "\n",
    "        return merge\n",
    "\n",
    "print(merge_sort([1, 3, 2, 4, 5, 6, 7, 8, 9, 10, 11, 12, 13, 14, 15, 16, 17, 18, 19, 20]))\n",
    "        \n",
    "\n"
   ]
  },
  {
   "cell_type": "code",
   "execution_count": 5,
   "metadata": {},
   "outputs": [
    {
     "name": "stdout",
     "output_type": "stream",
     "text": [
      "10\n"
     ]
    }
   ],
   "source": [
    "# Now same techinque we use it for the question\n",
    "def inversions(arr):\n",
    "    n = len(arr)\n",
    "    return mergesort(arr, 0, n-1)\n",
    "\n",
    "def mergesort(arr, left, right):\n",
    "    inv_count = 0\n",
    "    if left < right:\n",
    "        mid = (left + right)//2\n",
    "\n",
    "        inv_count += mergesort(arr, left, mid)\n",
    "        inv_count += mergesort(arr, mid+1, right)\n",
    "\n",
    "        inv_count += merge(arr, left, right, mid)\n",
    "    \n",
    "    return inv_count\n",
    "\n",
    "def merge(arr, left, right, mid):\n",
    "    i = left \n",
    "    j = mid +1\n",
    "    inv_count = 0\n",
    "\n",
    "    while i <= mid and j <= right:\n",
    "        if arr[i]<= arr[j]:\n",
    "            i += 1\n",
    "        else:\n",
    "            inv_count += mid - i + 1\n",
    "            j += 1\n",
    "    return inv_count\n",
    "\n",
    "print(inversions([10, 9, 3, 4, 1]))\n",
    "        "
   ]
  },
  {
   "cell_type": "code",
   "execution_count": null,
   "metadata": {},
   "outputs": [],
   "source": []
  }
 ],
 "metadata": {
  "kernelspec": {
   "display_name": "Python 3.10.7 64-bit",
   "language": "python",
   "name": "python3"
  },
  "language_info": {
   "codemirror_mode": {
    "name": "ipython",
    "version": 3
   },
   "file_extension": ".py",
   "mimetype": "text/x-python",
   "name": "python",
   "nbconvert_exporter": "python",
   "pygments_lexer": "ipython3",
   "version": "3.10.7"
  },
  "orig_nbformat": 4,
  "vscode": {
   "interpreter": {
    "hash": "e7370f93d1d0cde622a1f8e1c04877d8463912d04d973331ad4851f04de6915a"
   }
  }
 },
 "nbformat": 4,
 "nbformat_minor": 2
}
