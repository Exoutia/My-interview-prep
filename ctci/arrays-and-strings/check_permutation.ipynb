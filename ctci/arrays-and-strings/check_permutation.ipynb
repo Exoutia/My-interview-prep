{
 "cells": [
  {
   "attachments": {},
   "cell_type": "markdown",
   "metadata": {},
   "source": [
    "# Check Permutation\n",
    "Given two strings write method to decide if one is permutations of the other. \n",
    "## Question i can ask\n",
    "can character comparison be done by case sensitive.\n",
    "and should whitespace be a significant character.\n"
   ]
  },
  {
   "cell_type": "code",
   "execution_count": null,
   "metadata": {},
   "outputs": [],
   "source": []
  },
  {
   "cell_type": "code",
   "execution_count": null,
   "metadata": {},
   "outputs": [],
   "source": []
  }
 ],
 "metadata": {
  "language_info": {
   "name": "python"
  },
  "orig_nbformat": 4
 },
 "nbformat": 4,
 "nbformat_minor": 2
}
