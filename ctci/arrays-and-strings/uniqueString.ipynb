{
 "cells": [
  {
   "attachments": {},
   "cell_type": "markdown",
   "metadata": {},
   "source": [
    "# Is Unique\n",
    "Implement an algorithm to determine if a string has all unique characters. What if you cannot use additional data structures?"
   ]
  },
  {
   "attachments": {},
   "cell_type": "markdown",
   "metadata": {},
   "source": [
    "## My solution\n",
    "So before solving the question I should thaink about the question and get an idea about the kind of situation I can get during the solution. \n",
    "lets see\n",
    "- will the string will only contain the ascii chars?\n",
    "- will the string can be empty?\n",
    "- can the input that I will get is of different type like int or etc.\n",
    "- most of the time the problem is to code lets should practice it.\n",
    "  \n",
    "First time i coded this use hashmap but that increase the space complexity to O(N) and without using the space ti take O(NlogN) cause i was using the sorting.\n",
    "Now that i think bucket sort makes the sorting to O(N) but the problem is that it takes some space i guess. who knows i need ot read more about it on my own. "
   ]
  },
  {
   "cell_type": "code",
   "execution_count": 1,
   "metadata": {},
   "outputs": [],
   "source": [
    "def isUnique(var: str) -> bool:\n",
    "    char_list = [0]*128\n",
    "    for i in var:\n",
    "        if char_list[ord(i)] == 1:\n",
    "            return False\n",
    "        char_list[ord(i)] = 1\n",
    "    return True\n"
   ]
  },
  {
   "cell_type": "code",
   "execution_count": 2,
   "metadata": {},
   "outputs": [],
   "source": [
    "# lets make some test case\n",
    "tests = [\n",
    "    {\"input\": {'var':\"hello\"}, \"output\": False},\n",
    "    {'input': {'var': \"helo\"}, 'output': True},\n",
    "    {'input': {'var': \"hi guys\"}, 'output': True},\n",
    "]\n"
   ]
  },
  {
   "cell_type": "code",
   "execution_count": 6,
   "metadata": {},
   "outputs": [],
   "source": [
    "from myTestKit import evaluate_test_cases"
   ]
  },
  {
   "cell_type": "code",
   "execution_count": 7,
   "metadata": {},
   "outputs": [
    {
     "name": "stdout",
     "output_type": "stream",
     "text": [
      "\n",
      "\u001b[1mTEST CASE #0\u001b[0m\n",
      "\n",
      "Input:\n",
      "{'var': 'hello'}\n",
      "Expected Output:\n",
      "False\n",
      "\n",
      "\n",
      "Actual Output:\n",
      "False\n",
      "Execution Time:\n",
      "0.006 ms\n",
      "Test Result:\n",
      "\u001b[92mPASSED\u001b[0m\n",
      "\n",
      "\n",
      "\u001b[1mTEST CASE #1\u001b[0m\n",
      "\n",
      "Input:\n",
      "{'var': 'helo'}\n",
      "Expected Output:\n",
      "True\n",
      "\n",
      "\n",
      "Actual Output:\n",
      "True\n",
      "Execution Time:\n",
      "0.004 ms\n",
      "Test Result:\n",
      "\u001b[92mPASSED\u001b[0m\n",
      "\n",
      "\n",
      "\u001b[1mTEST CASE #2\u001b[0m\n",
      "\n",
      "Input:\n",
      "{'var': 'hi guys'}\n",
      "Expected Output:\n",
      "True\n",
      "\n",
      "\n",
      "Actual Output:\n",
      "True\n",
      "Execution Time:\n",
      "0.004 ms\n",
      "Test Result:\n",
      "\u001b[92mPASSED\u001b[0m\n",
      "\n",
      "\n",
      "\u001b[1mSUMMARY\u001b[0m\n",
      "\n",
      "TOTAL: 3, \u001b[92mPASSED\u001b[0m: 3, \u001b[91mFAILED\u001b[0m: 0\n"
     ]
    },
    {
     "data": {
      "text/plain": [
       "[(False, True, 0.006), (True, True, 0.004), (True, True, 0.004)]"
      ]
     },
     "execution_count": 7,
     "metadata": {},
     "output_type": "execute_result"
    }
   ],
   "source": [
    "evaluate_test_cases(isUnique, tests)"
   ]
  },
  {
   "cell_type": "code",
   "execution_count": null,
   "metadata": {},
   "outputs": [],
   "source": []
  }
 ],
 "metadata": {
  "kernelspec": {
   "display_name": "Python 3",
   "language": "python",
   "name": "python3"
  },
  "language_info": {
   "codemirror_mode": {
    "name": "ipython",
    "version": 3
   },
   "file_extension": ".py",
   "mimetype": "text/x-python",
   "name": "python",
   "nbconvert_exporter": "python",
   "pygments_lexer": "ipython3",
   "version": "3.10.8 (main, Nov  1 2022, 14:18:21) [GCC 12.2.0]"
  },
  "orig_nbformat": 4,
  "vscode": {
   "interpreter": {
    "hash": "e7370f93d1d0cde622a1f8e1c04877d8463912d04d973331ad4851f04de6915a"
   }
  }
 },
 "nbformat": 4,
 "nbformat_minor": 2
}
